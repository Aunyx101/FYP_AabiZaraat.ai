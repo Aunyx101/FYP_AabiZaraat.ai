{
  "nbformat": 4,
  "nbformat_minor": 0,
  "metadata": {
    "colab": {
      "provenance": []
    },
    "kernelspec": {
      "name": "python3",
      "display_name": "Python 3"
    },
    "language_info": {
      "name": "python"
    }
  },
  "cells": [
    {
      "cell_type": "code",
      "execution_count": 1,
      "metadata": {
        "colab": {
          "base_uri": "https://localhost:8080/"
        },
        "id": "aTdwfR4vc81u",
        "outputId": "e8175cdc-a427-4530-b87f-b3c585a760a1"
      },
      "outputs": [
        {
          "output_type": "stream",
          "name": "stdout",
          "text": [
            "Enter a fish name: Ringy Fish\n",
            "The most compatible soil for Ringy Fish is: Saline\n",
            "Enter a soil type (Saline, Alkaline, Mixture, etc.): Alkaline\n",
            "The most compatible fishes for Alkaline soil are: ['Kitefish', 'King Firefish', 'Green Severum', 'Diamond Carp', 'Tetrafamily', 'Red Tetrastick', 'Mono Angel', 'Silver Carp Fish', 'Jalebi Poplet Fish', 'Zandia Fish', 'Poplet Fish', 'Dilwar Fish', 'Nysa Fish', 'Sapphy Fish']\n"
          ]
        }
      ],
      "source": [
        "class FishSoilMapper:\n",
        "    def __init__(self):\n",
        "        self.fish_to_soil_mapping = {\n",
        "            \"Angelfish\": \"Saline\",\n",
        "            \"Kitefish\": \"Alkaline\",\n",
        "            \"Black Ghost Knifefish\": \"Mixture\",\n",
        "            \"King Firefish\": \"Alkaline\",\n",
        "            \"Blue Line Shark\": \"Saline\",\n",
        "            \"Catfish\": \"Mixture\",\n",
        "            \"Demasonic Cichlid\": \"Saline\",\n",
        "            \"Green Severum\": \"Alkaline\",\n",
        "            \"Diamond Carp\": \"Alkaline\",\n",
        "            \"Carp\": \"Mixture\",\n",
        "            \"Clownfish Nemo\": \"Saline\",\n",
        "            \"Cichlid Koi\": \"Mixture\",\n",
        "            \"Skatefish\": \"Mixture\",\n",
        "            \"Tetrafamily\": \"Alkaline\",\n",
        "            \"Red Jewel\": \"Mixture\",\n",
        "            \"Red Tetrastick\": \"Alkaline\",\n",
        "            \"Oscarfish\": \"Saline\",\n",
        "            \"Mono Angel\": \"Alkaline\",\n",
        "            \"Shrimp chiplat\": \"Saline\",\n",
        "            \"Pirate Chiplat\": \"Mixture\",\n",
        "            \"Silver Carp Fish\": \"Alkaline\",\n",
        "            \"Pirate Fish\": \"Mixture\",\n",
        "            \"Jalebi Poplet Fish\": \"Alkaline\",\n",
        "            \"Big Rahu Fish\": \"Saline\",\n",
        "            \"Zandia Fish\": \"Alkaline\",\n",
        "            \"Dhari Fish\": \"Mixture\",\n",
        "            \"Rahu Fish\": \"Saline\",\n",
        "            \"Takkan Fish\": \"Mixture\",\n",
        "            \"Poplet Fish\": \"Alkaline\",\n",
        "            \"Catfish_edible\": \"Mixture\",\n",
        "            \"Dilwar Fish\": \"Alkaline\",\n",
        "            \"Remaining Fish\": \"Mixture\",\n",
        "            \"Nysa Fish\": \"Alkaline\",\n",
        "            \"Ringy Fish\": \"Saline\",\n",
        "            \"Moe Fish\": \"Mixture\",\n",
        "            \"Red Snapper Fish\": \"Saline\",\n",
        "            \"Black Water Rahu\": \"Saline\",\n",
        "            \"Hira Fish\": \"Mixture\",\n",
        "            \"Sapphy Fish\": \"Alkaline\",\n",
        "            \"Serum Fish\": \"Mixture\",\n",
        "        }\n",
        "\n",
        "        self.soil_to_fish_mapping = {\n",
        "            \"Saline\": [\"Angelfish\", \"Blue Line Shark\", \"Catfish\", \"Demasonic Cichlid\", \"Clownfish Nemo\", \"Oscarfish\", \"Shrimp chiplat\", \"Pirate Chiplat\", \"Big Rahu Fish\", \"Ringy Fish\", \"Red Snapper Fish\", \"Black Water Rahu\", \"Hira Fish\"],\n",
        "            \"Alkaline\": [\"Kitefish\", \"King Firefish\", \"Green Severum\", \"Diamond Carp\", \"Tetrafamily\", \"Red Tetrastick\", \"Mono Angel\", \"Silver Carp Fish\", \"Jalebi Poplet Fish\", \"Zandia Fish\", \"Poplet Fish\", \"Dilwar Fish\", \"Nysa Fish\", \"Sapphy Fish\"],\n",
        "            \"Mixture\": [\"Black Ghost Knifefish\", \"Carp\", \"Cichlid Koi\", \"Skatefish\", \"Red Jewel\", \"Pirate Fish\", \"Dhari Fish\", \"Rahu Fish\", \"Takkan Fish\", \"Remaining Fish\", \"Moe Fish\", \"Serum Fish\"],\n",
        "        }\n",
        "\n",
        "    def map_fish_to_soil(self, fish):\n",
        "        return self.fish_to_soil_mapping.get(fish, \"No compatible soil found.\")\n",
        "\n",
        "    def map_soil_to_fish(self, soil):\n",
        "        return self.soil_to_fish_mapping.get(soil, [\"No compatible fish found.\"])\n",
        "\n",
        "mapper = FishSoilMapper()\n",
        "\n",
        "input_fish = input(\"Enter a fish name: \")\n",
        "compatible_soil = mapper.map_fish_to_soil(input_fish)\n",
        "print(f\"The most compatible soil for {input_fish} is: {compatible_soil}\")\n",
        "\n",
        "input_soil = input(\"Enter a soil type (Saline, Alkaline, Mixture, etc.): \")\n",
        "compatible_fishes = mapper.map_soil_to_fish(input_soil)\n",
        "print(f\"The most compatible fishes for {input_soil} soil are: {compatible_fishes}\")\n"
      ]
    }
  ]
}