{
  "cells": [
    {
      "cell_type": "code",
      "source": [
        "from google.colab import drive\n",
        "drive.mount('/content/drive')"
      ],
      "metadata": {
        "colab": {
          "base_uri": "https://localhost:8080/"
        },
        "id": "ZO9fRtDPffMO",
        "outputId": "4beddb2a-f072-4080-d45b-aa1b411f58f5"
      },
      "execution_count": 1,
      "outputs": [
        {
          "output_type": "stream",
          "name": "stdout",
          "text": [
            "Mounted at /content/drive\n"
          ]
        }
      ]
    },
    {
      "cell_type": "code",
      "execution_count": 4,
      "metadata": {
        "id": "AhRyqJNlBYtl"
      },
      "outputs": [],
      "source": [
        "# import the libraries as shown below\n",
        "from tensorflow.keras.layers import Input, Lambda, Dense, Flatten\n",
        "from tensorflow.keras.models import Model\n",
        "from tensorflow.keras.applications.inception_v3 import InceptionV3\n",
        "from tensorflow.keras.applications.vgg19 import VGG19\n",
        "from tensorflow.keras.preprocessing import image\n",
        "from tensorflow.keras.preprocessing.image import ImageDataGenerator,load_img\n",
        "from tensorflow.keras.models import Sequential\n",
        "import numpy as np\n",
        "from glob import glob\n",
        "import matplotlib.pyplot as plt\n",
        "from sklearn.metrics import classification_report\n",
        "from sklearn.metrics import confusion_matrix\n",
        "from sklearn.metrics import accuracy_score\n",
        "import seaborn as sns\n",
        "from sklearn.metrics import confusion_matrix\n",
        "import itertools\n",
        "from keras.models import load_model\n",
        "import os"
      ]
    },
    {
      "cell_type": "code",
      "execution_count": 5,
      "metadata": {
        "id": "cgO8gWBYBYto"
      },
      "outputs": [],
      "source": [
        "# re-size all the images to this\n",
        "IMAGE_SIZE = [224, 224]\n",
        "\n",
        "train_path = r'/content/drive/MyDrive/Halal Fishes Dataset/JPG Halal Fish Splitted dataset/train'\n",
        "valid_path = r'/content/drive/MyDrive/Halal Fishes Dataset/JPG Halal Fish Splitted dataset/test'"
      ]
    },
    {
      "cell_type": "code",
      "execution_count": 6,
      "metadata": {
        "colab": {
          "base_uri": "https://localhost:8080/"
        },
        "id": "b7luRf4zBYtp",
        "outputId": "9da38e18-46c4-48c5-e3c9-72eb20eda1bf"
      },
      "outputs": [
        {
          "output_type": "stream",
          "name": "stdout",
          "text": [
            "Downloading data from https://storage.googleapis.com/tensorflow/keras-applications/vgg19/vgg19_weights_tf_dim_ordering_tf_kernels_notop.h5\n",
            "80134624/80134624 [==============================] - 4s 0us/step\n"
          ]
        }
      ],
      "source": [
        "# Import the Vgg 19 library as shown below and add preprocessing layer to the front of VGG\n",
        "# Here we will be using imagenet weights\n",
        "\n",
        "vgg19 = VGG19(input_shape=IMAGE_SIZE + [3], weights='imagenet', include_top=False)"
      ]
    },
    {
      "cell_type": "code",
      "execution_count": 7,
      "metadata": {
        "id": "rBas59tZBYtp"
      },
      "outputs": [],
      "source": [
        "# don't train existing weights\n",
        "for layer in vgg19.layers:\n",
        "    layer.trainable = False"
      ]
    },
    {
      "cell_type": "code",
      "execution_count": 8,
      "metadata": {
        "id": "9OHUsyz5BYtp"
      },
      "outputs": [],
      "source": [
        "# useful for getting number of output classes\n",
        "folders = glob(r'/content/drive/MyDrive/Halal Fishes Dataset/JPG Halal Fish Splitted dataset/train/*')"
      ]
    },
    {
      "cell_type": "code",
      "execution_count": 9,
      "metadata": {
        "id": "wsEMvLhLBYtp"
      },
      "outputs": [],
      "source": [
        "# our layers - you can add more if you want\n",
        "x = Flatten()(vgg19.output)\n",
        "prediction = Dense(len(folders), activation='softmax')(x)"
      ]
    },
    {
      "cell_type": "code",
      "execution_count": 10,
      "metadata": {
        "id": "waa4byC9BYtq"
      },
      "outputs": [],
      "source": [
        "# create a model object\n",
        "model_vgg19_final = Model(inputs=vgg19.input, outputs=prediction)"
      ]
    },
    {
      "cell_type": "code",
      "execution_count": 11,
      "metadata": {
        "id": "PSklHcamBYtq"
      },
      "outputs": [],
      "source": [
        "# tell the model what cost and optimization method to use\n",
        "model_vgg19_final.compile(\n",
        "  loss='categorical_crossentropy',\n",
        "  optimizer='adam',\n",
        "  metrics=['accuracy']\n",
        ")"
      ]
    },
    {
      "cell_type": "code",
      "execution_count": 12,
      "metadata": {
        "id": "SoogGgcfBYtq"
      },
      "outputs": [],
      "source": [
        "# Use the Image Data Generator to import the images from the dataset\n",
        "train_datagen = ImageDataGenerator(rescale = 1./255,\n",
        "                                   shear_range = 0.2,\n",
        "                                   zoom_range = 0.2,\n",
        "                                   horizontal_flip = True,)\n",
        "\n",
        "test_datagen = ImageDataGenerator(rescale = 1./255)"
      ]
    },
    {
      "cell_type": "code",
      "execution_count": 13,
      "metadata": {
        "colab": {
          "base_uri": "https://localhost:8080/"
        },
        "id": "XZkTB4qlBYts",
        "outputId": "2e8dffd3-2e6f-4b7d-d863-b31c5a4abe48"
      },
      "outputs": [
        {
          "output_type": "stream",
          "name": "stdout",
          "text": [
            "Found 133 images belonging to 20 classes.\n",
            "Found 70 images belonging to 20 classes.\n"
          ]
        }
      ],
      "source": [
        "# Make sure you provide the same target size as initialied for the image size\n",
        "training_set = train_datagen.flow_from_directory(train_path,\n",
        "                                                 target_size = (224, 224),\n",
        "                                                 batch_size = 32,\n",
        "                                                 class_mode = 'categorical')\n",
        "\n",
        "test_set = test_datagen.flow_from_directory(valid_path,\n",
        "                                            target_size = (224, 224),\n",
        "                                            batch_size = 32,\n",
        "                                            class_mode = 'categorical')\n"
      ]
    },
    {
      "cell_type": "code",
      "execution_count": 14,
      "metadata": {
        "id": "JGR_bKEuBYtu",
        "colab": {
          "base_uri": "https://localhost:8080/"
        },
        "outputId": "7fb528ab-c12f-456b-8684-d78b2df3525f"
      },
      "outputs": [
        {
          "output_type": "stream",
          "name": "stdout",
          "text": [
            "Epoch 1/10\n",
            "5/5 [==============================] - 176s 34s/step - loss: 5.2792 - accuracy: 0.2256 - val_loss: 5.1379 - val_accuracy: 0.1429\n",
            "Epoch 2/10\n",
            "5/5 [==============================] - 21s 4s/step - loss: 3.2874 - accuracy: 0.3684 - val_loss: 3.1279 - val_accuracy: 0.3571\n",
            "Epoch 3/10\n",
            "5/5 [==============================] - 20s 4s/step - loss: 1.8958 - accuracy: 0.5789 - val_loss: 1.8985 - val_accuracy: 0.4714\n",
            "Epoch 4/10\n",
            "5/5 [==============================] - 24s 5s/step - loss: 0.9114 - accuracy: 0.7519 - val_loss: 1.7798 - val_accuracy: 0.5429\n",
            "Epoch 5/10\n",
            "5/5 [==============================] - 19s 4s/step - loss: 0.5015 - accuracy: 0.8722 - val_loss: 1.9933 - val_accuracy: 0.5571\n",
            "Epoch 6/10\n",
            "5/5 [==============================] - 24s 5s/step - loss: 0.5130 - accuracy: 0.8571 - val_loss: 1.6372 - val_accuracy: 0.6286\n",
            "Epoch 7/10\n",
            "5/5 [==============================] - 19s 4s/step - loss: 0.2750 - accuracy: 0.9098 - val_loss: 1.3836 - val_accuracy: 0.6857\n",
            "Epoch 8/10\n",
            "5/5 [==============================] - 22s 5s/step - loss: 0.3222 - accuracy: 0.9248 - val_loss: 1.5320 - val_accuracy: 0.7000\n",
            "Epoch 9/10\n",
            "5/5 [==============================] - 20s 4s/step - loss: 0.2408 - accuracy: 0.9173 - val_loss: 1.4294 - val_accuracy: 0.7143\n",
            "Epoch 10/10\n",
            "5/5 [==============================] - 20s 4s/step - loss: 0.1774 - accuracy: 0.9699 - val_loss: 1.3045 - val_accuracy: 0.7286\n",
            "model saved to Disk.\n"
          ]
        },
        {
          "output_type": "stream",
          "name": "stderr",
          "text": [
            "/usr/local/lib/python3.10/dist-packages/keras/src/engine/training.py:3103: UserWarning: You are saving your model as an HDF5 file via `model.save()`. This file format is considered legacy. We recommend using instead the native Keras format, e.g. `model.save('my_model.keras')`.\n",
            "  saving_api.save_model(\n"
          ]
        }
      ],
      "source": [
        "# fit the model\n",
        "# Run the cell. It will take some time to execute\n",
        "history_vgg19_final = model_vgg19_final.fit(\n",
        "  training_set,\n",
        "  validation_data=test_set,\n",
        "  epochs=10,\n",
        "  steps_per_epoch=len(training_set),\n",
        "  validation_steps=len(test_set)\n",
        ")\n",
        "\n",
        "model_vgg19_final.save('VGG19_Final_Model.h5')\n",
        "print(\"model saved to Disk.\")"
      ]
    },
    {
      "cell_type": "code",
      "execution_count": 15,
      "metadata": {
        "id": "N-yobjMwBYtv",
        "outputId": "67613fe5-1323-497e-f2c2-d16bbfedad30",
        "colab": {
          "base_uri": "https://localhost:8080/",
          "height": 882
        }
      },
      "outputs": [
        {
          "output_type": "display_data",
          "data": {
            "text/plain": [
              "<Figure size 640x480 with 1 Axes>"
            ],
            "image/png": "[encoded data removed]"
          },
          "metadata": {}
        },
        {
          "output_type": "display_data",
          "data": {
            "text/plain": [
              "<Figure size 640x480 with 1 Axes>"
            ],
            "image/png": "[encoded data removed]"
          },
          "metadata": {}
        }
      ],
      "source": [
        "#plot the loss\n",
        "plt.plot(history_vgg19_final.history['loss'], label='train loss')\n",
        "plt.plot(history_vgg19_final.history['val_loss'], label='val loss')\n",
        "plt.legend()\n",
        "plt.xlabel(\"Epochs\")\n",
        "plt.ylabel(\"Loss\")\n",
        "plt.show()\n",
        "\n",
        "# plot the accuracy\n",
        "plt.plot(history_vgg19_final.history['accuracy'], label='val acc')\n",
        "plt.plot(history_vgg19_final.history['val_accuracy'], label='train acc')\n",
        "plt.legend()\n",
        "plt.xlabel(\"Epochs\")\n",
        "plt.ylabel(\"Accuracy\")\n",
        "plt.show()"
      ]
    },
    {
      "cell_type": "code",
      "execution_count": 16,
      "metadata": {
        "id": "cHEJL3rSBYtv",
        "outputId": "f42d63ea-8e32-4110-bb6b-c96e63dd81b6",
        "colab": {
          "base_uri": "https://localhost:8080/"
        }
      },
      "outputs": [
        {
          "output_type": "stream",
          "name": "stdout",
          "text": [
            "model loaded.\n"
          ]
        }
      ],
      "source": [
        "# dirname = os.path.join(os.path.dirname(__file__))\n",
        "model_vgg19_new_final = load_model('VGG19_Final_Model.h5')\n",
        "print(\"model loaded.\")"
      ]
    },
    {
      "cell_type": "code",
      "execution_count": 17,
      "metadata": {
        "id": "XWG1LywNBYtw",
        "outputId": "3da0b444-678a-436c-cbe1-44b632c7999c",
        "colab": {
          "base_uri": "https://localhost:8080/"
        }
      },
      "outputs": [
        {
          "output_type": "stream",
          "name": "stdout",
          "text": [
            "Model: \"model\"\n",
            "_________________________________________________________________\n",
            " Layer (type)                Output Shape              Param #   \n",
            "=================================================================\n",
            " input_1 (InputLayer)        [(None, 224, 224, 3)]     0         \n",
            "                                                                 \n",
            " block1_conv1 (Conv2D)       (None, 224, 224, 64)      1792      \n",
            "                                                                 \n",
            " block1_conv2 (Conv2D)       (None, 224, 224, 64)      36928     \n",
            "                                                                 \n",
            " block1_pool (MaxPooling2D)  (None, 112, 112, 64)      0         \n",
            "                                                                 \n",
            " block2_conv1 (Conv2D)       (None, 112, 112, 128)     73856     \n",
            "                                                                 \n",
            " block2_conv2 (Conv2D)       (None, 112, 112, 128)     147584    \n",
            "                                                                 \n",
            " block2_pool (MaxPooling2D)  (None, 56, 56, 128)       0         \n",
            "                                                                 \n",
            " block3_conv1 (Conv2D)       (None, 56, 56, 256)       295168    \n",
            "                                                                 \n",
            " block3_conv2 (Conv2D)       (None, 56, 56, 256)       590080    \n",
            "                                                                 \n",
            " block3_conv3 (Conv2D)       (None, 56, 56, 256)       590080    \n",
            "                                                                 \n",
            " block3_conv4 (Conv2D)       (None, 56, 56, 256)       590080    \n",
            "                                                                 \n",
            " block3_pool (MaxPooling2D)  (None, 28, 28, 256)       0         \n",
            "                                                                 \n",
            " block4_conv1 (Conv2D)       (None, 28, 28, 512)       1180160   \n",
            "                                                                 \n",
            " block4_conv2 (Conv2D)       (None, 28, 28, 512)       2359808   \n",
            "                                                                 \n",
            " block4_conv3 (Conv2D)       (None, 28, 28, 512)       2359808   \n",
            "                                                                 \n",
            " block4_conv4 (Conv2D)       (None, 28, 28, 512)       2359808   \n",
            "                                                                 \n",
            " block4_pool (MaxPooling2D)  (None, 14, 14, 512)       0         \n",
            "                                                                 \n",
            " block5_conv1 (Conv2D)       (None, 14, 14, 512)       2359808   \n",
            "                                                                 \n",
            " block5_conv2 (Conv2D)       (None, 14, 14, 512)       2359808   \n",
            "                                                                 \n",
            " block5_conv3 (Conv2D)       (None, 14, 14, 512)       2359808   \n",
            "                                                                 \n",
            " block5_conv4 (Conv2D)       (None, 14, 14, 512)       2359808   \n",
            "                                                                 \n",
            " block5_pool (MaxPooling2D)  (None, 7, 7, 512)         0         \n",
            "                                                                 \n",
            " flatten (Flatten)           (None, 25088)             0         \n",
            "                                                                 \n",
            " dense (Dense)               (None, 20)                501780    \n",
            "                                                                 \n",
            "=================================================================\n",
            "Total params: 20526164 (78.30 MB)\n",
            "Trainable params: 501780 (1.91 MB)\n",
            "Non-trainable params: 20024384 (76.39 MB)\n",
            "_________________________________________________________________\n"
          ]
        }
      ],
      "source": [
        "model_vgg19_new_final.summary()"
      ]
    },
    {
      "cell_type": "code",
      "execution_count": 18,
      "metadata": {
        "id": "95eLk9FbBYtw",
        "outputId": "7c26a0fe-b373-4608-efab-d090285b923e",
        "colab": {
          "base_uri": "https://localhost:8080/"
        }
      },
      "outputs": [
        {
          "output_type": "stream",
          "name": "stdout",
          "text": [
            "Found 70 images belonging to 20 classes.\n"
          ]
        }
      ],
      "source": [
        "test_generator = ImageDataGenerator(rescale = 1./255)\n",
        "test_data_generator = test_generator.flow_from_directory(\n",
        "    valid_path,\n",
        "    target_size=(224, 224),\n",
        "    batch_size=32,\n",
        "    shuffle=False)\n",
        "test_steps_per_epoch = np.math.ceil(test_data_generator.samples / test_data_generator.batch_size)\n"
      ]
    },
    {
      "cell_type": "code",
      "execution_count": 19,
      "metadata": {
        "id": "dWEhImegBYtx",
        "outputId": "14019c48-011a-49f1-e30c-7250962d7ddf",
        "colab": {
          "base_uri": "https://localhost:8080/"
        }
      },
      "outputs": [
        {
          "output_type": "stream",
          "name": "stdout",
          "text": [
            "3/3 [==============================] - 7s 2s/step\n"
          ]
        }
      ],
      "source": [
        "predictions = model_vgg19_new_final.predict(test_data_generator, steps=test_steps_per_epoch)"
      ]
    },
    {
      "cell_type": "code",
      "execution_count": 20,
      "metadata": {
        "id": "rYAU2_hgBYtx",
        "outputId": "3cd23fd6-f14a-44c7-d9ac-ca230fca6ba6",
        "colab": {
          "base_uri": "https://localhost:8080/"
        }
      },
      "outputs": [
        {
          "output_type": "stream",
          "name": "stdout",
          "text": [
            "[ 0  0  0  0  1  1  1  2  2  2  2  2  3  3  3  4  4  5  5  5  6  6  6  6\n",
            "  7  7  8  8  8  9  9 10 10 10 11 11 11 11 11 11 11 12 12 13 13 14 14 14\n",
            " 15 15 15 15 15 15 15 16 16 16 16 16 16 17 17 18 19 19 19 19 19 19]\n",
            "[ 6  6  0  0  1  1  1  2  2  2  2  5 12 11  3  4 16  5 19 19  6  6  6  6\n",
            "  1  7  6  8 15  9  9  2 10 10 11 12 12  2  2 11 11 12 12 13 13 14 14 14\n",
            " 15 16 15 15 15 15 15 16 16 16 16 16 16 17  2 18 19 19 19 19 19  5]\n"
          ]
        }
      ],
      "source": [
        "# Get most likely class\n",
        "predicted_classes = np.argmax(predictions, axis=1)\n",
        "\n",
        "print(test_data_generator.classes)\n",
        "print(predicted_classes)"
      ]
    },
    {
      "cell_type": "code",
      "execution_count": 21,
      "metadata": {
        "id": "-QFwlLGcBYty"
      },
      "outputs": [],
      "source": [
        "true_classes = test_data_generator.classes\n",
        "class_labels = list(test_data_generator.class_indices.keys())"
      ]
    },
    {
      "cell_type": "code",
      "execution_count": 22,
      "metadata": {
        "id": "NaxCzCuqBYty",
        "outputId": "47180567-901d-42c3-e460-48f6283af9ce",
        "colab": {
          "base_uri": "https://localhost:8080/"
        }
      },
      "outputs": [
        {
          "output_type": "stream",
          "name": "stdout",
          "text": [
            "                        precision    recall  f1-score   support\n",
            "\n",
            "         Big raho Fish       1.00      0.50      0.67         4\n",
            "      Black Water Rahu       0.75      1.00      0.86         3\n",
            "              Cat fish       0.50      0.80      0.62         5\n",
            "            Dhari Fish       1.00      0.33      0.50         3\n",
            "           Dilwar fish       1.00      0.50      0.67         2\n",
            "            Heera Fish       0.33      0.33      0.33         3\n",
            "    Jalabi Paplat Fish       0.57      1.00      0.73         4\n",
            "              Moi Fish       1.00      0.50      0.67         2\n",
            "           Naiser Fish       1.00      0.33      0.50         3\n",
            "           Paplet Fish       1.00      1.00      1.00         2\n",
            "           Parrot Fish       1.00      0.67      0.80         3\n",
            "             Rahu Fish       0.75      0.43      0.55         7\n",
            "      Red snapper Fish       0.40      1.00      0.57         2\n",
            "Ringi  like a cat fish       1.00      1.00      1.00         2\n",
            "             Safi Fish       1.00      1.00      1.00         3\n",
            "            Sarum fish       0.86      0.86      0.86         7\n",
            "      Silver carp Fish       0.75      1.00      0.86         6\n",
            "            Tacan Fish       1.00      0.50      0.67         2\n",
            "Zandia or Dhandia Fish       1.00      1.00      1.00         1\n",
            "             remaining       0.71      0.83      0.77         6\n",
            "\n",
            "              accuracy                           0.73        70\n",
            "             macro avg       0.83      0.73      0.73        70\n",
            "          weighted avg       0.80      0.73      0.72        70\n",
            "\n",
            "[[2 0 0 0 0 0 2 0 0 0 0 0 0 0 0 0 0 0 0 0]\n",
            " [0 3 0 0 0 0 0 0 0 0 0 0 0 0 0 0 0 0 0 0]\n",
            " [0 0 4 0 0 1 0 0 0 0 0 0 0 0 0 0 0 0 0 0]\n",
            " [0 0 0 1 0 0 0 0 0 0 0 1 1 0 0 0 0 0 0 0]\n",
            " [0 0 0 0 1 0 0 0 0 0 0 0 0 0 0 0 1 0 0 0]\n",
            " [0 0 0 0 0 1 0 0 0 0 0 0 0 0 0 0 0 0 0 2]\n",
            " [0 0 0 0 0 0 4 0 0 0 0 0 0 0 0 0 0 0 0 0]\n",
            " [0 1 0 0 0 0 0 1 0 0 0 0 0 0 0 0 0 0 0 0]\n",
            " [0 0 0 0 0 0 1 0 1 0 0 0 0 0 0 1 0 0 0 0]\n",
            " [0 0 0 0 0 0 0 0 0 2 0 0 0 0 0 0 0 0 0 0]\n",
            " [0 0 1 0 0 0 0 0 0 0 2 0 0 0 0 0 0 0 0 0]\n",
            " [0 0 2 0 0 0 0 0 0 0 0 3 2 0 0 0 0 0 0 0]\n",
            " [0 0 0 0 0 0 0 0 0 0 0 0 2 0 0 0 0 0 0 0]\n",
            " [0 0 0 0 0 0 0 0 0 0 0 0 0 2 0 0 0 0 0 0]\n",
            " [0 0 0 0 0 0 0 0 0 0 0 0 0 0 3 0 0 0 0 0]\n",
            " [0 0 0 0 0 0 0 0 0 0 0 0 0 0 0 6 1 0 0 0]\n",
            " [0 0 0 0 0 0 0 0 0 0 0 0 0 0 0 0 6 0 0 0]\n",
            " [0 0 1 0 0 0 0 0 0 0 0 0 0 0 0 0 0 1 0 0]\n",
            " [0 0 0 0 0 0 0 0 0 0 0 0 0 0 0 0 0 0 1 0]\n",
            " [0 0 0 0 0 1 0 0 0 0 0 0 0 0 0 0 0 0 0 5]]\n",
            "0.7285714285714285\n"
          ]
        }
      ],
      "source": [
        "report = classification_report(true_classes, predicted_classes, target_names=class_labels)\n",
        "cmat = confusion_matrix(true_classes, predicted_classes)\n",
        "acc = accuracy_score(true_classes, predicted_classes)\n",
        "print(report)\n",
        "print(cmat)\n",
        "print(acc)"
      ]
    },
    {
      "cell_type": "code",
      "source": [
        "# importing os module\n",
        "import os\n",
        "\n",
        "# Get the list of all files and directories\n",
        "path = \"/content/drive/MyDrive/Halal Fishes Dataset/JPG Halal Fish Splitted dataset/train\"\n",
        "dir_list = os.listdir(path)\n",
        "\n",
        "print(\"Files and directories in '\", path, \"' :\")\n",
        "\n",
        "# print the list\n",
        "print(dir_list)\n"
      ],
      "metadata": {
        "colab": {
          "base_uri": "https://localhost:8080/"
        },
        "id": "yMXX6MIjf5aO",
        "outputId": "2374d7b9-6a83-406f-b415-4a779bf17402"
      },
      "execution_count": 23,
      "outputs": [
        {
          "output_type": "stream",
          "name": "stdout",
          "text": [
            "Files and directories in ' /content/drive/MyDrive/Halal Fishes Dataset/JPG Halal Fish Splitted dataset/train ' :\n",
            "['Tacan Fish', 'Zandia or Dhandia Fish', 'Sarum fish', 'Safi Fish', 'remaining', 'Silver carp Fish', 'Ringi  like a cat fish', 'Red snapper Fish', 'Rahu Fish', 'Heera Fish', 'Paplet Fish', 'Dhari Fish', 'Naiser Fish', 'Dilwar fish', 'Cat fish', 'Jalabi Paplat Fish', 'Black Water Rahu', 'Moi Fish', 'Parrot Fish', 'Big raho Fish']\n"
          ]
        }
      ]
    },
    {
      "cell_type": "code",
      "execution_count": 24,
      "metadata": {
        "id": "HKkGjJmNBYtz",
        "outputId": "ee5117fc-35d6-4dbf-928d-8d29860777aa",
        "colab": {
          "base_uri": "https://localhost:8080/",
          "height": 865
        }
      },
      "outputs": [
        {
          "output_type": "display_data",
          "data": {
            "text/plain": [
              "<Figure size 800x800 with 2 Axes>"
            ],
            "image/png": "[encoded data removed]"
          },
          "metadata": {}
        }
      ],
      "source": [
        "confusion_mtx = confusion_matrix(true_classes, predicted_classes)\n",
        "# plot the confusion matrix\n",
        "f,ax = plt.subplots(figsize=(8, 8))\n",
        "sns.heatmap(confusion_mtx, annot=True, linewidths=0.01, cmap=\"Blues\", linecolor=\"gray\", fmt='d', ax=ax)\n",
        "plt.xlabel(\"Predicted Label\")\n",
        "plt.ylabel(\"True Label\")\n",
        "ax.set_xticklabels(['Tacan Fish', 'Zandia or Dhandia Fish', 'Sarum fish', 'Safi Fish', 'remaining', 'Silver carp Fish', 'Ringi  like a cat fish', 'Red snapper Fish', 'Rahu Fish', 'Heera Fish', 'Paplet Fish', 'Dhari Fish', 'Naiser Fish', 'Dilwar fish', 'Cat fish', 'Jalabi Paplat Fish', 'Black Water Rahu', 'Moi Fish', 'Parrot Fish', 'Big raho Fish'])\n",
        "plt.xticks(rotation=90)\n",
        "plt.yticks(rotation=0)\n",
        "ax.set_yticklabels(['Tacan Fish', 'Zandia or Dhandia Fish', 'Sarum fish', 'Safi Fish', 'remaining', 'Silver carp Fish', 'Ringi  like a cat fish', 'Red snapper Fish', 'Rahu Fish', 'Heera Fish', 'Paplet Fish', 'Dhari Fish', 'Naiser Fish', 'Dilwar fish', 'Cat fish', 'Jalabi Paplat Fish', 'Black Water Rahu', 'Moi Fish', 'Parrot Fish', 'Big raho Fish'])\n",
        "\n",
        "plt.title(\"Confusion Matrix\")\n",
        "plt.show()"
      ]
    },
    {
      "cell_type": "code",
      "execution_count": 25,
      "metadata": {
        "id": "TZlkiD6sBYtz"
      },
      "outputs": [],
      "source": [
        "def get_tpr_fnr_fpr_tnr(cm):\n",
        "    \"\"\"\n",
        "    This function returns class-wise TPR, FNR, FPR & TNR\n",
        "    [[cm]]: a 2-D array of a multiclass confusion matrix\n",
        "            where horizontal axes represent actual classes\n",
        "            and vertical axes represent predicted classes\n",
        "    {output}: a dictionary of class-wise accuracy parameters\n",
        "    \"\"\"\n",
        "    dict_metric = dict()\n",
        "    n = len(cm[0])\n",
        "    row_sums = cm.sum(axis=1)\n",
        "    col_sums = cm.sum(axis=0)\n",
        "    array_sum = sum(sum(cm))\n",
        "    #initialize a blank nested dictionary\n",
        "    for i in range(1, n+1):\n",
        "        keys = str(i)\n",
        "        dict_metric[keys] = {\"TPR\":0, \"FNR\":0, \"FPR\":0, \"TNR\":0}\n",
        "    # calculate and store class-wise TPR, FNR, FPR, TNR\n",
        "    for i in range(n):\n",
        "        for j in range(n):\n",
        "            if i == j:\n",
        "                keys = str(i+1)\n",
        "                tp = cm[i, j]\n",
        "                fn = row_sums[i] - cm[i, j]\n",
        "                dict_metric[keys][\"TPR\"] = tp / (tp + fn)\n",
        "                dict_metric[keys][\"FNR\"] = fn / (tp + fn)\n",
        "                fp = col_sums[i] - cm[i, j]\n",
        "                tn = array_sum - tp - fn - fp\n",
        "                dict_metric[keys][\"FPR\"] = fp / (fp + tn)\n",
        "                dict_metric[keys][\"TNR\"] = tn / (fp + tn)\n",
        "    return dict_metric"
      ]
    },
    {
      "cell_type": "code",
      "execution_count": 26,
      "metadata": {
        "id": "imSkyaWRBYt0",
        "outputId": "1782f130-aa11-41ab-e41f-508a46cf0832",
        "colab": {
          "base_uri": "https://localhost:8080/",
          "height": 708
        }
      },
      "outputs": [
        {
          "output_type": "execute_result",
          "data": {
            "text/plain": [
              "                             TPR       FNR       FPR       TNR\n",
              "CLASSES                                                       \n",
              "Tacan Fish              0.500000  0.500000  0.000000  1.000000\n",
              "Zandia or Dhandia Fish  1.000000  0.000000  0.014925  0.985075\n",
              "Sarum fish              0.800000  0.200000  0.061538  0.938462\n",
              "Safi Fish               0.333333  0.666667  0.000000  1.000000\n",
              "remaining               0.500000  0.500000  0.000000  1.000000\n",
              "Silver carp Fish        0.333333  0.666667  0.029851  0.970149\n",
              "Ringi  like a cat fish  1.000000  0.000000  0.045455  0.954545\n",
              "Red snapper Fish        0.500000  0.500000  0.000000  1.000000\n",
              "Rahu Fish               0.333333  0.666667  0.000000  1.000000\n",
              "Heera Fish              1.000000  0.000000  0.000000  1.000000\n",
              "Paplet Fish             0.666667  0.333333  0.000000  1.000000\n",
              "Dhari Fish              0.428571  0.571429  0.015873  0.984127\n",
              "Naiser Fish             1.000000  0.000000  0.044118  0.955882\n",
              "Dilwar fish             1.000000  0.000000  0.000000  1.000000\n",
              "Cat fish                1.000000  0.000000  0.000000  1.000000\n",
              "Jalabi Paplat Fish      0.857143  0.142857  0.015873  0.984127\n",
              "Black Water Rahu        1.000000  0.000000  0.031250  0.968750\n",
              "Moi Fish                0.500000  0.500000  0.000000  1.000000\n",
              "Parrot Fish             1.000000  0.000000  0.000000  1.000000\n",
              "Big raho Fish           0.833333  0.166667  0.031250  0.968750"
            ],
            "text/html": [
              "\n",
              "  <div id=\"df-65d1274d-8fd8-440e-8df3-b98e294695bd\" class=\"colab-df-container\">\n",
              "    <div>\n",
              "<style scoped>\n",
              "    .dataframe tbody tr th:only-of-type {\n",
              "        vertical-align: middle;\n",
              "    }\n",
              "\n",
              "    .dataframe tbody tr th {\n",
              "        vertical-align: top;\n",
              "    }\n",
              "\n",
              "    .dataframe thead th {\n",
              "        text-align: right;\n",
              "    }\n",
              "</style>\n",
              "<table border=\"1\" class=\"dataframe\">\n",
              "  <thead>\n",
              "    <tr style=\"text-align: right;\">\n",
              "      <th></th>\n",
              "      <th>TPR</th>\n",
              "      <th>FNR</th>\n",
              "      <th>FPR</th>\n",
              "      <th>TNR</th>\n",
              "    </tr>\n",
              "    <tr>\n",
              "      <th>CLASSES</th>\n",
              "      <th></th>\n",
              "      <th></th>\n",
              "      <th></th>\n",
              "      <th></th>\n",
              "    </tr>\n",
              "  </thead>\n",
              "  <tbody>\n",
              "    <tr>\n",
              "      <th>Tacan Fish</th>\n",
              "      <td>0.500000</td>\n",
              "      <td>0.500000</td>\n",
              "      <td>0.000000</td>\n",
              "      <td>1.000000</td>\n",
              "    </tr>\n",
              "    <tr>\n",
              "      <th>Zandia or Dhandia Fish</th>\n",
              "      <td>1.000000</td>\n",
              "      <td>0.000000</td>\n",
              "      <td>0.014925</td>\n",
              "      <td>0.985075</td>\n",
              "    </tr>\n",
              "    <tr>\n",
              "      <th>Sarum fish</th>\n",
              "      <td>0.800000</td>\n",
              "      <td>0.200000</td>\n",
              "      <td>0.061538</td>\n",
              "      <td>0.938462</td>\n",
              "    </tr>\n",
              "    <tr>\n",
              "      <th>Safi Fish</th>\n",
              "      <td>0.333333</td>\n",
              "      <td>0.666667</td>\n",
              "      <td>0.000000</td>\n",
              "      <td>1.000000</td>\n",
              "    </tr>\n",
              "    <tr>\n",
              "      <th>remaining</th>\n",
              "      <td>0.500000</td>\n",
              "      <td>0.500000</td>\n",
              "      <td>0.000000</td>\n",
              "      <td>1.000000</td>\n",
              "    </tr>\n",
              "    <tr>\n",
              "      <th>Silver carp Fish</th>\n",
              "      <td>0.333333</td>\n",
              "      <td>0.666667</td>\n",
              "      <td>0.029851</td>\n",
              "      <td>0.970149</td>\n",
              "    </tr>\n",
              "    <tr>\n",
              "      <th>Ringi  like a cat fish</th>\n",
              "      <td>1.000000</td>\n",
              "      <td>0.000000</td>\n",
              "      <td>0.045455</td>\n",
              "      <td>0.954545</td>\n",
              "    </tr>\n",
              "    <tr>\n",
              "      <th>Red snapper Fish</th>\n",
              "      <td>0.500000</td>\n",
              "      <td>0.500000</td>\n",
              "      <td>0.000000</td>\n",
              "      <td>1.000000</td>\n",
              "    </tr>\n",
              "    <tr>\n",
              "      <th>Rahu Fish</th>\n",
              "      <td>0.333333</td>\n",
              "      <td>0.666667</td>\n",
              "      <td>0.000000</td>\n",
              "      <td>1.000000</td>\n",
              "    </tr>\n",
              "    <tr>\n",
              "      <th>Heera Fish</th>\n",
              "      <td>1.000000</td>\n",
              "      <td>0.000000</td>\n",
              "      <td>0.000000</td>\n",
              "      <td>1.000000</td>\n",
              "    </tr>\n",
              "    <tr>\n",
              "      <th>Paplet Fish</th>\n",
              "      <td>0.666667</td>\n",
              "      <td>0.333333</td>\n",
              "      <td>0.000000</td>\n",
              "      <td>1.000000</td>\n",
              "    </tr>\n",
              "    <tr>\n",
              "      <th>Dhari Fish</th>\n",
              "      <td>0.428571</td>\n",
              "      <td>0.571429</td>\n",
              "      <td>0.015873</td>\n",
              "      <td>0.984127</td>\n",
              "    </tr>\n",
              "    <tr>\n",
              "      <th>Naiser Fish</th>\n",
              "      <td>1.000000</td>\n",
              "      <td>0.000000</td>\n",
              "      <td>0.044118</td>\n",
              "      <td>0.955882</td>\n",
              "    </tr>\n",
              "    <tr>\n",
              "      <th>Dilwar fish</th>\n",
              "      <td>1.000000</td>\n",
              "      <td>0.000000</td>\n",
              "      <td>0.000000</td>\n",
              "      <td>1.000000</td>\n",
              "    </tr>\n",
              "    <tr>\n",
              "      <th>Cat fish</th>\n",
              "      <td>1.000000</td>\n",
              "      <td>0.000000</td>\n",
              "      <td>0.000000</td>\n",
              "      <td>1.000000</td>\n",
              "    </tr>\n",
              "    <tr>\n",
              "      <th>Jalabi Paplat Fish</th>\n",
              "      <td>0.857143</td>\n",
              "      <td>0.142857</td>\n",
              "      <td>0.015873</td>\n",
              "      <td>0.984127</td>\n",
              "    </tr>\n",
              "    <tr>\n",
              "      <th>Black Water Rahu</th>\n",
              "      <td>1.000000</td>\n",
              "      <td>0.000000</td>\n",
              "      <td>0.031250</td>\n",
              "      <td>0.968750</td>\n",
              "    </tr>\n",
              "    <tr>\n",
              "      <th>Moi Fish</th>\n",
              "      <td>0.500000</td>\n",
              "      <td>0.500000</td>\n",
              "      <td>0.000000</td>\n",
              "      <td>1.000000</td>\n",
              "    </tr>\n",
              "    <tr>\n",
              "      <th>Parrot Fish</th>\n",
              "      <td>1.000000</td>\n",
              "      <td>0.000000</td>\n",
              "      <td>0.000000</td>\n",
              "      <td>1.000000</td>\n",
              "    </tr>\n",
              "    <tr>\n",
              "      <th>Big raho Fish</th>\n",
              "      <td>0.833333</td>\n",
              "      <td>0.166667</td>\n",
              "      <td>0.031250</td>\n",
              "      <td>0.968750</td>\n",
              "    </tr>\n",
              "  </tbody>\n",
              "</table>\n",
              "</div>\n",
              "    <div class=\"colab-df-buttons\">\n",
              "\n",
              "  <div class=\"colab-df-container\">\n",
              "    <button class=\"colab-df-convert\" onclick=\"convertToInteractive('df-65d1274d-8fd8-440e-8df3-b98e294695bd')\"\n",
              "            title=\"Convert this dataframe to an interactive table.\"\n",
              "            style=\"display:none;\">\n",
              "\n",
              "  <svg xmlns=\"http://www.w3.org/2000/svg\" height=\"24px\" viewBox=\"0 -960 960 960\">\n",
              "    <path d=\"M120-120v-720h720v720H120Zm60-500h600v-160H180v160Zm220 220h160v-160H400v160Zm0 220h160v-160H400v160ZM180-400h160v-160H180v160Zm440 0h160v-160H620v160ZM180-180h160v-160H180v160Zm440 0h160v-160H620v160Z\"/>\n",
              "  </svg>\n",
              "    </button>\n",
              "\n",
              "  <style>\n",
              "    .colab-df-container {\n",
              "      display:flex;\n",
              "      gap: 12px;\n",
              "    }\n",
              "\n",
              "    .colab-df-convert {\n",
              "      background-color: #E8F0FE;\n",
              "      border: none;\n",
              "      border-radius: 50%;\n",
              "      cursor: pointer;\n",
              "      display: none;\n",
              "      fill: #1967D2;\n",
              "      height: 32px;\n",
              "      padding: 0 0 0 0;\n",
              "      width: 32px;\n",
              "    }\n",
              "\n",
              "    .colab-df-convert:hover {\n",
              "      background-color: #E2EBFA;\n",
              "      box-shadow: 0px 1px 2px rgba(60, 64, 67, 0.3), 0px 1px 3px 1px rgba(60, 64, 67, 0.15);\n",
              "      fill: #174EA6;\n",
              "    }\n",
              "\n",
              "    .colab-df-buttons div {\n",
              "      margin-bottom: 4px;\n",
              "    }\n",
              "\n",
              "    [theme=dark] .colab-df-convert {\n",
              "      background-color: #3B4455;\n",
              "      fill: #D2E3FC;\n",
              "    }\n",
              "\n",
              "    [theme=dark] .colab-df-convert:hover {\n",
              "      background-color: #434B5C;\n",
              "      box-shadow: 0px 1px 3px 1px rgba(0, 0, 0, 0.15);\n",
              "      filter: drop-shadow(0px 1px 2px rgba(0, 0, 0, 0.3));\n",
              "      fill: #FFFFFF;\n",
              "    }\n",
              "  </style>\n",
              "\n",
              "    <script>\n",
              "      const buttonEl =\n",
              "        document.querySelector('#df-65d1274d-8fd8-440e-8df3-b98e294695bd button.colab-df-convert');\n",
              "      buttonEl.style.display =\n",
              "        google.colab.kernel.accessAllowed ? 'block' : 'none';\n",
              "\n",
              "      async function convertToInteractive(key) {\n",
              "        const element = document.querySelector('#df-65d1274d-8fd8-440e-8df3-b98e294695bd');\n",
              "        const dataTable =\n",
              "          await google.colab.kernel.invokeFunction('convertToInteractive',\n",
              "                                                    [key], {});\n",
              "        if (!dataTable) return;\n",
              "\n",
              "        const docLinkHtml = 'Like what you see? Visit the ' +\n",
              "          '<a target=\"_blank\" href=https://colab.research.google.com/notebooks/data_table.ipynb>data table notebook</a>'\n",
              "          + ' to learn more about interactive tables.';\n",
              "        element.innerHTML = '';\n",
              "        dataTable['output_type'] = 'display_data';\n",
              "        await google.colab.output.renderOutput(dataTable, element);\n",
              "        const docLink = document.createElement('div');\n",
              "        docLink.innerHTML = docLinkHtml;\n",
              "        element.appendChild(docLink);\n",
              "      }\n",
              "    </script>\n",
              "  </div>\n",
              "\n",
              "\n",
              "<div id=\"df-f6af4dde-46c3-4f87-87ac-15ba7ec26211\">\n",
              "  <button class=\"colab-df-quickchart\" onclick=\"quickchart('df-f6af4dde-46c3-4f87-87ac-15ba7ec26211')\"\n",
              "            title=\"Suggest charts\"\n",
              "            style=\"display:none;\">\n",
              "\n",
              "<svg xmlns=\"http://www.w3.org/2000/svg\" height=\"24px\"viewBox=\"0 0 24 24\"\n",
              "     width=\"24px\">\n",
              "    <g>\n",
              "        <path d=\"M19 3H5c-1.1 0-2 .9-2 2v14c0 1.1.9 2 2 2h14c1.1 0 2-.9 2-2V5c0-1.1-.9-2-2-2zM9 17H7v-7h2v7zm4 0h-2V7h2v10zm4 0h-2v-4h2v4z\"/>\n",
              "    </g>\n",
              "</svg>\n",
              "  </button>\n",
              "\n",
              "<style>\n",
              "  .colab-df-quickchart {\n",
              "      --bg-color: #E8F0FE;\n",
              "      --fill-color: #1967D2;\n",
              "      --hover-bg-color: #E2EBFA;\n",
              "      --hover-fill-color: #174EA6;\n",
              "      --disabled-fill-color: #AAA;\n",
              "      --disabled-bg-color: #DDD;\n",
              "  }\n",
              "\n",
              "  [theme=dark] .colab-df-quickchart {\n",
              "      --bg-color: #3B4455;\n",
              "      --fill-color: #D2E3FC;\n",
              "      --hover-bg-color: #434B5C;\n",
              "      --hover-fill-color: #FFFFFF;\n",
              "      --disabled-bg-color: #3B4455;\n",
              "      --disabled-fill-color: #666;\n",
              "  }\n",
              "\n",
              "  .colab-df-quickchart {\n",
              "    background-color: var(--bg-color);\n",
              "    border: none;\n",
              "    border-radius: 50%;\n",
              "    cursor: pointer;\n",
              "    display: none;\n",
              "    fill: var(--fill-color);\n",
              "    height: 32px;\n",
              "    padding: 0;\n",
              "    width: 32px;\n",
              "  }\n",
              "\n",
              "  .colab-df-quickchart:hover {\n",
              "    background-color: var(--hover-bg-color);\n",
              "    box-shadow: 0 1px 2px rgba(60, 64, 67, 0.3), 0 1px 3px 1px rgba(60, 64, 67, 0.15);\n",
              "    fill: var(--button-hover-fill-color);\n",
              "  }\n",
              "\n",
              "  .colab-df-quickchart-complete:disabled,\n",
              "  .colab-df-quickchart-complete:disabled:hover {\n",
              "    background-color: var(--disabled-bg-color);\n",
              "    fill: var(--disabled-fill-color);\n",
              "    box-shadow: none;\n",
              "  }\n",
              "\n",
              "  .colab-df-spinner {\n",
              "    border: 2px solid var(--fill-color);\n",
              "    border-color: transparent;\n",
              "    border-bottom-color: var(--fill-color);\n",
              "    animation:\n",
              "      spin 1s steps(1) infinite;\n",
              "  }\n",
              "\n",
              "  @keyframes spin {\n",
              "    0% {\n",
              "      border-color: transparent;\n",
              "      border-bottom-color: var(--fill-color);\n",
              "      border-left-color: var(--fill-color);\n",
              "    }\n",
              "    20% {\n",
              "      border-color: transparent;\n",
              "      border-left-color: var(--fill-color);\n",
              "      border-top-color: var(--fill-color);\n",
              "    }\n",
              "    30% {\n",
              "      border-color: transparent;\n",
              "      border-left-color: var(--fill-color);\n",
              "      border-top-color: var(--fill-color);\n",
              "      border-right-color: var(--fill-color);\n",
              "    }\n",
              "    40% {\n",
              "      border-color: transparent;\n",
              "      border-right-color: var(--fill-color);\n",
              "      border-top-color: var(--fill-color);\n",
              "    }\n",
              "    60% {\n",
              "      border-color: transparent;\n",
              "      border-right-color: var(--fill-color);\n",
              "    }\n",
              "    80% {\n",
              "      border-color: transparent;\n",
              "      border-right-color: var(--fill-color);\n",
              "      border-bottom-color: var(--fill-color);\n",
              "    }\n",
              "    90% {\n",
              "      border-color: transparent;\n",
              "      border-bottom-color: var(--fill-color);\n",
              "    }\n",
              "  }\n",
              "</style>\n",
              "\n",
              "  <script>\n",
              "    async function quickchart(key) {\n",
              "      const quickchartButtonEl =\n",
              "        document.querySelector('#' + key + ' button');\n",
              "      quickchartButtonEl.disabled = true;  // To prevent multiple clicks.\n",
              "      quickchartButtonEl.classList.add('colab-df-spinner');\n",
              "      try {\n",
              "        const charts = await google.colab.kernel.invokeFunction(\n",
              "            'suggestCharts', [key], {});\n",
              "      } catch (error) {\n",
              "        console.error('Error during call to suggestCharts:', error);\n",
              "      }\n",
              "      quickchartButtonEl.classList.remove('colab-df-spinner');\n",
              "      quickchartButtonEl.classList.add('colab-df-quickchart-complete');\n",
              "    }\n",
              "    (() => {\n",
              "      let quickchartButtonEl =\n",
              "        document.querySelector('#df-f6af4dde-46c3-4f87-87ac-15ba7ec26211 button');\n",
              "      quickchartButtonEl.style.display =\n",
              "        google.colab.kernel.accessAllowed ? 'block' : 'none';\n",
              "    })();\n",
              "  </script>\n",
              "</div>\n",
              "    </div>\n",
              "  </div>\n"
            ]
          },
          "metadata": {},
          "execution_count": 26
        }
      ],
      "source": [
        "import pandas as pd\n",
        "df = pd.DataFrame(get_tpr_fnr_fpr_tnr(confusion_mtx)).transpose()\n",
        "classes = ['Tacan Fish', 'Zandia or Dhandia Fish', 'Sarum fish', 'Safi Fish', 'remaining', 'Silver carp Fish', 'Ringi  like a cat fish', 'Red snapper Fish', 'Rahu Fish', 'Heera Fish', 'Paplet Fish', 'Dhari Fish', 'Naiser Fish', 'Dilwar fish', 'Cat fish', 'Jalabi Paplat Fish', 'Black Water Rahu', 'Moi Fish', 'Parrot Fish', 'Big raho Fish']\n",
        "df['CLASSES'] = classes\n",
        "df.set_index('CLASSES', inplace=True)\n",
        "df"
      ]
    },
    {
      "cell_type": "code",
      "execution_count": 27,
      "metadata": {
        "id": "eX-pvQnVBYt0",
        "outputId": "51e187bb-a570-4187-9426-8e9dec7b7858",
        "colab": {
          "base_uri": "https://localhost:8080/"
        }
      },
      "outputs": [
        {
          "output_type": "stream",
          "name": "stdout",
          "text": [
            "VGG19 analysis: \n",
            "TPR average:  0.7292857142857143\n",
            "FPR average:  0.014506640260042367\n",
            "TNR average:  0.9854933597399576\n",
            "FNR average:  0.2707142857142857\n"
          ]
        }
      ],
      "source": [
        "print(\"VGG19 analysis: \")\n",
        "print(\"TPR average: \",df[\"TPR\"].mean())\n",
        "print(\"FPR average: \",df[\"FPR\"].mean())\n",
        "print(\"TNR average: \",df[\"TNR\"].mean())\n",
        "print(\"FNR average: \",df[\"FNR\"].mean())"
      ]
    }
  ],
  "metadata": {
    "kernelspec": {
      "display_name": "Python 3",
      "name": "python3"
    },
    "language_info": {
      "codemirror_mode": {
        "name": "ipython",
        "version": 3
      },
      "file_extension": ".py",
      "mimetype": "text/x-python",
      "name": "python",
      "nbconvert_exporter": "python",
      "pygments_lexer": "ipython3",
      "version": "3.9.0"
    },
    "orig_nbformat": 4,
    "vscode": {
      "interpreter": {
        "hash": "8f8cf99212f81ad0c4765861267244807ee1c18364846cdce387b28994a977ba"
      }
    },
    "colab": {
      "provenance": [],
      "gpuType": "T4"
    },
    "accelerator": "GPU"
  },
  "nbformat": 4,
  "nbformat_minor": 0
}