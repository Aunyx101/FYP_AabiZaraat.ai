{
  "cells": [
    {
      "cell_type": "code",
      "source": [
        "from google.colab import drive\n",
        "drive.mount('/content/drive')"
      ],
      "metadata": {
        "colab": {
          "base_uri": "https://localhost:8080/"
        },
        "id": "nu22PsX_uj_E",
        "outputId": "5789fa32-8979-4fbc-eb2b-8e1a8bac47f8"
      },
      "execution_count": 1,
      "outputs": [
        {
          "output_type": "stream",
          "name": "stdout",
          "text": [
            "Mounted at /content/drive\n"
          ]
        }
      ]
    },
    {
      "cell_type": "code",
      "execution_count": 2,
      "metadata": {
        "id": "L7j2pHYaLcku"
      },
      "outputs": [],
      "source": [
        "# import the libraries as shown below\n",
        "\n",
        "from tensorflow.keras.layers import Input, Lambda, Dense, Flatten\n",
        "from tensorflow.keras.models import Model\n",
        "from tensorflow.keras.applications.mobilenet import MobileNet\n",
        "from tensorflow.keras.preprocessing import image\n",
        "from tensorflow.keras.preprocessing.image import ImageDataGenerator,load_img\n",
        "from tensorflow.keras.models import Sequential\n",
        "import numpy as np\n",
        "from glob import glob\n",
        "import matplotlib.pyplot as plt\n",
        "from sklearn.metrics import classification_report\n",
        "from sklearn.metrics import confusion_matrix\n",
        "from sklearn.metrics import accuracy_score\n",
        "import seaborn as sns\n",
        "from sklearn.metrics import confusion_matrix\n",
        "import itertools\n",
        "from keras.models import load_model\n",
        "import os\n",
        "import tensorflow as tf\n"
      ]
    },
    {
      "cell_type": "code",
      "execution_count": 3,
      "metadata": {
        "id": "BN6Eh8zcLckx"
      },
      "outputs": [],
      "source": [
        "# re-size all the images to this\n",
        "IMAGE_SIZE = [224, 224]\n",
        "\n",
        "train_path = r'/content/drive/MyDrive/Halal Fishes Dataset/JPG Halal Fish Splitted dataset/train'\n",
        "valid_path = r'/content/drive/MyDrive/Halal Fishes Dataset/JPG Halal Fish Splitted dataset/test'\n"
      ]
    },
    {
      "cell_type": "code",
      "execution_count": 4,
      "metadata": {
        "id": "DuPkNc-tLckz",
        "colab": {
          "base_uri": "https://localhost:8080/"
        },
        "outputId": "8a21b1dd-f917-4393-cb10-aa44e2f9ad4f"
      },
      "outputs": [
        {
          "output_type": "stream",
          "name": "stdout",
          "text": [
            "Downloading data from https://storage.googleapis.com/tensorflow/keras-applications/mobilenet/mobilenet_1_0_224_tf_no_top.h5\n",
            "17225924/17225924 [==============================] - 0s 0us/step\n"
          ]
        }
      ],
      "source": [
        "# Import the mobilenet library as shown below and add preprocessing layer to the front of MobileNet\n",
        "# Here we will be using imagenet weights\n",
        "\n",
        "mobilenet = MobileNet(input_shape=IMAGE_SIZE + [3], weights='imagenet', include_top=False)\n"
      ]
    },
    {
      "cell_type": "code",
      "execution_count": 5,
      "metadata": {
        "id": "pMSTB8AvLck0"
      },
      "outputs": [],
      "source": [
        "# don't train existing weights\n",
        "for layer in mobilenet.layers:\n",
        "    layer.trainable = False"
      ]
    },
    {
      "cell_type": "code",
      "execution_count": 6,
      "metadata": {
        "id": "QY5p15lVLck0"
      },
      "outputs": [],
      "source": [
        "# useful for getting number of output classes\n",
        "folders = glob(r'/content/drive/MyDrive/Halal Fishes Dataset/JPG Halal Fish Splitted dataset/train/*')"
      ]
    },
    {
      "cell_type": "code",
      "execution_count": 7,
      "metadata": {
        "id": "z5suh9s1Lck0"
      },
      "outputs": [],
      "source": [
        "# our layers - you can add more if you want\n",
        "x = Flatten()(mobilenet.output)\n",
        "prediction = Dense(len(folders), activation='softmax')(x)"
      ]
    },
    {
      "cell_type": "code",
      "execution_count": 8,
      "metadata": {
        "id": "Yy4nFtX9Lck1"
      },
      "outputs": [],
      "source": [
        "# create a model object\n",
        "model_mobilenet_final = Model(inputs=mobilenet.input, outputs=prediction)"
      ]
    },
    {
      "cell_type": "code",
      "execution_count": 9,
      "metadata": {
        "id": "28t8nOubLck1"
      },
      "outputs": [],
      "source": [
        "# tell the model what cost and optimization method to use\n",
        "model_mobilenet_final.compile(\n",
        "  loss='categorical_crossentropy',\n",
        "  optimizer='adam',\n",
        "  metrics=['accuracy']\n",
        ")"
      ]
    },
    {
      "cell_type": "code",
      "execution_count": 10,
      "metadata": {
        "id": "FmZH0M84Lck2"
      },
      "outputs": [],
      "source": [
        "# Use the Image Data Generator to import the images from the dataset\n",
        "train_datagen = ImageDataGenerator(rescale = 1./255,\n",
        "                                   shear_range = 0.2,\n",
        "                                   zoom_range = 0.2,\n",
        "                                   horizontal_flip = True,)\n",
        "\n",
        "test_datagen = ImageDataGenerator(rescale = 1./255)"
      ]
    },
    {
      "cell_type": "code",
      "execution_count": 11,
      "metadata": {
        "colab": {
          "base_uri": "https://localhost:8080/"
        },
        "id": "w_jfc5opLck2",
        "outputId": "88525152-e7d3-4880-dafc-b9ae74259825"
      },
      "outputs": [
        {
          "output_type": "stream",
          "name": "stdout",
          "text": [
            "Found 133 images belonging to 20 classes.\n",
            "Found 70 images belonging to 20 classes.\n"
          ]
        }
      ],
      "source": [
        "# Make sure you provide the same target size as initialied for the image size\n",
        "training_set = train_datagen.flow_from_directory(train_path,\n",
        "                                                 target_size = (224, 224),\n",
        "                                                 batch_size = 32,\n",
        "                                                 class_mode = 'categorical')\n",
        "\n",
        "test_set = test_datagen.flow_from_directory(valid_path,\n",
        "                                            target_size = (224, 224),\n",
        "                                            batch_size = 32,\n",
        "                                            class_mode = 'categorical')\n"
      ]
    },
    {
      "cell_type": "code",
      "execution_count": 12,
      "metadata": {
        "id": "2jYpHUsLLck4",
        "outputId": "1b92e999-3abe-4e97-a6c8-a6aa0ec97457",
        "colab": {
          "base_uri": "https://localhost:8080/"
        }
      },
      "outputs": [
        {
          "output_type": "stream",
          "name": "stdout",
          "text": [
            "Epoch 1/10\n",
            "5/5 [==============================] - 114s 23s/step - loss: 19.1026 - accuracy: 0.2632 - val_loss: 13.9990 - val_accuracy: 0.5143\n",
            "Epoch 2/10\n",
            "5/5 [==============================] - 35s 7s/step - loss: 8.7901 - accuracy: 0.7143 - val_loss: 10.4444 - val_accuracy: 0.5429\n",
            "Epoch 3/10\n",
            "5/5 [==============================] - 32s 7s/step - loss: 4.4356 - accuracy: 0.7594 - val_loss: 11.9346 - val_accuracy: 0.6143\n",
            "Epoch 4/10\n",
            "5/5 [==============================] - 33s 7s/step - loss: 2.0078 - accuracy: 0.9173 - val_loss: 11.1398 - val_accuracy: 0.6286\n",
            "Epoch 5/10\n",
            "5/5 [==============================] - 32s 8s/step - loss: 2.6447 - accuracy: 0.9023 - val_loss: 11.0483 - val_accuracy: 0.6286\n",
            "Epoch 6/10\n",
            "5/5 [==============================] - 31s 6s/step - loss: 1.9305 - accuracy: 0.8797 - val_loss: 10.7781 - val_accuracy: 0.6714\n",
            "Epoch 7/10\n",
            "5/5 [==============================] - 31s 6s/step - loss: 3.2324 - accuracy: 0.8872 - val_loss: 11.8050 - val_accuracy: 0.7143\n",
            "Epoch 8/10\n",
            "5/5 [==============================] - 47s 10s/step - loss: 0.9447 - accuracy: 0.9624 - val_loss: 12.2429 - val_accuracy: 0.7143\n",
            "Epoch 9/10\n",
            "5/5 [==============================] - 34s 7s/step - loss: 1.6891 - accuracy: 0.9248 - val_loss: 13.1755 - val_accuracy: 0.7286\n",
            "Epoch 10/10\n",
            "5/5 [==============================] - 31s 6s/step - loss: 2.6217 - accuracy: 0.9323 - val_loss: 11.2552 - val_accuracy: 0.7286\n",
            "model saved to Disk.\n"
          ]
        }
      ],
      "source": [
        "# fit the model\n",
        "# Run the cell. It will take some time to execute\n",
        "history_mobilenet_final = model_mobilenet_final.fit(\n",
        "  training_set,\n",
        "  validation_data=test_set,\n",
        "  epochs=10,\n",
        "  steps_per_epoch=len(training_set),\n",
        "  validation_steps=len(test_set)\n",
        ")\n",
        "\n",
        "model_mobilenet_final.save('mobilenet_final_model.h5')\n",
        "print(\"model saved to Disk.\")"
      ]
    },
    {
      "cell_type": "code",
      "execution_count": 13,
      "metadata": {
        "id": "NEHf4T24Lck4",
        "outputId": "ea48ba14-d30b-4110-a8e0-548bb5aa2e83",
        "colab": {
          "base_uri": "https://localhost:8080/",
          "height": 887
        }
      },
      "outputs": [
        {
          "output_type": "display_data",
          "data": {
            "text/plain": [
              "<Figure size 640x480 with 1 Axes>"
            ],
            "image/png": "[encoded data removed]"
          },
          "metadata": {}
        },
        {
          "output_type": "display_data",
          "data": {
            "text/plain": [
              "<Figure size 640x480 with 1 Axes>"
            ],
            "image/png": "[encoded data removed]"
          },
          "metadata": {}
        }
      ],
      "source": [
        "#plot the loss\n",
        "plt.plot(history_mobilenet_final.history['loss'], label='train loss')\n",
        "plt.plot(history_mobilenet_final.history['val_loss'], label='val loss')\n",
        "plt.legend()\n",
        "plt.xlabel(\"Epochs\")\n",
        "plt.ylabel(\"Loss\")\n",
        "plt.show()\n",
        "\n",
        "# plot the accuracy\n",
        "plt.plot(history_mobilenet_final.history['accuracy'], label='val acc')\n",
        "plt.plot(history_mobilenet_final.history['val_accuracy'], label='train acc')\n",
        "plt.legend()\n",
        "plt.xlabel(\"Epochs\")\n",
        "plt.ylabel(\"Accuracy\")\n",
        "plt.show()"
      ]
    },
    {
      "cell_type": "code",
      "execution_count": 14,
      "metadata": {
        "id": "rVFozkBiLck5",
        "outputId": "f9adff8f-77f4-44a3-8696-32162266fb5b",
        "colab": {
          "base_uri": "https://localhost:8080/"
        }
      },
      "outputs": [
        {
          "output_type": "stream",
          "name": "stdout",
          "text": [
            "model loaded.\n"
          ]
        }
      ],
      "source": [
        "# dirname = os.path.join(os.path.dirname(__file__))\n",
        "model_mobilenet_new_final = load_model('mobilenet_final_model.h5')\n",
        "print(\"model loaded.\")"
      ]
    },
    {
      "cell_type": "code",
      "execution_count": 15,
      "metadata": {
        "id": "SOVvLevHLck6",
        "outputId": "ca0e0235-2f3d-43aa-aaa2-a3b8d9986ad8",
        "colab": {
          "base_uri": "https://localhost:8080/"
        }
      },
      "outputs": [
        {
          "output_type": "stream",
          "name": "stdout",
          "text": [
            "Model: \"model\"\n",
            "_________________________________________________________________\n",
            " Layer (type)                Output Shape              Param #   \n",
            "=================================================================\n",
            " input_1 (InputLayer)        [(None, 224, 224, 3)]     0         \n",
            "                                                                 \n",
            " conv1 (Conv2D)              (None, 112, 112, 32)      864       \n",
            "                                                                 \n",
            " conv1_bn (BatchNormalizatio  (None, 112, 112, 32)     128       \n",
            " n)                                                              \n",
            "                                                                 \n",
            " conv1_relu (ReLU)           (None, 112, 112, 32)      0         \n",
            "                                                                 \n",
            " conv_dw_1 (DepthwiseConv2D)  (None, 112, 112, 32)     288       \n",
            "                                                                 \n",
            " conv_dw_1_bn (BatchNormaliz  (None, 112, 112, 32)     128       \n",
            " ation)                                                          \n",
            "                                                                 \n",
            " conv_dw_1_relu (ReLU)       (None, 112, 112, 32)      0         \n",
            "                                                                 \n",
            " conv_pw_1 (Conv2D)          (None, 112, 112, 64)      2048      \n",
            "                                                                 \n",
            " conv_pw_1_bn (BatchNormaliz  (None, 112, 112, 64)     256       \n",
            " ation)                                                          \n",
            "                                                                 \n",
            " conv_pw_1_relu (ReLU)       (None, 112, 112, 64)      0         \n",
            "                                                                 \n",
            " conv_pad_2 (ZeroPadding2D)  (None, 113, 113, 64)      0         \n",
            "                                                                 \n",
            " conv_dw_2 (DepthwiseConv2D)  (None, 56, 56, 64)       576       \n",
            "                                                                 \n",
            " conv_dw_2_bn (BatchNormaliz  (None, 56, 56, 64)       256       \n",
            " ation)                                                          \n",
            "                                                                 \n",
            " conv_dw_2_relu (ReLU)       (None, 56, 56, 64)        0         \n",
            "                                                                 \n",
            " conv_pw_2 (Conv2D)          (None, 56, 56, 128)       8192      \n",
            "                                                                 \n",
            " conv_pw_2_bn (BatchNormaliz  (None, 56, 56, 128)      512       \n",
            " ation)                                                          \n",
            "                                                                 \n",
            " conv_pw_2_relu (ReLU)       (None, 56, 56, 128)       0         \n",
            "                                                                 \n",
            " conv_dw_3 (DepthwiseConv2D)  (None, 56, 56, 128)      1152      \n",
            "                                                                 \n",
            " conv_dw_3_bn (BatchNormaliz  (None, 56, 56, 128)      512       \n",
            " ation)                                                          \n",
            "                                                                 \n",
            " conv_dw_3_relu (ReLU)       (None, 56, 56, 128)       0         \n",
            "                                                                 \n",
            " conv_pw_3 (Conv2D)          (None, 56, 56, 128)       16384     \n",
            "                                                                 \n",
            " conv_pw_3_bn (BatchNormaliz  (None, 56, 56, 128)      512       \n",
            " ation)                                                          \n",
            "                                                                 \n",
            " conv_pw_3_relu (ReLU)       (None, 56, 56, 128)       0         \n",
            "                                                                 \n",
            " conv_pad_4 (ZeroPadding2D)  (None, 57, 57, 128)       0         \n",
            "                                                                 \n",
            " conv_dw_4 (DepthwiseConv2D)  (None, 28, 28, 128)      1152      \n",
            "                                                                 \n",
            " conv_dw_4_bn (BatchNormaliz  (None, 28, 28, 128)      512       \n",
            " ation)                                                          \n",
            "                                                                 \n",
            " conv_dw_4_relu (ReLU)       (None, 28, 28, 128)       0         \n",
            "                                                                 \n",
            " conv_pw_4 (Conv2D)          (None, 28, 28, 256)       32768     \n",
            "                                                                 \n",
            " conv_pw_4_bn (BatchNormaliz  (None, 28, 28, 256)      1024      \n",
            " ation)                                                          \n",
            "                                                                 \n",
            " conv_pw_4_relu (ReLU)       (None, 28, 28, 256)       0         \n",
            "                                                                 \n",
            " conv_dw_5 (DepthwiseConv2D)  (None, 28, 28, 256)      2304      \n",
            "                                                                 \n",
            " conv_dw_5_bn (BatchNormaliz  (None, 28, 28, 256)      1024      \n",
            " ation)                                                          \n",
            "                                                                 \n",
            " conv_dw_5_relu (ReLU)       (None, 28, 28, 256)       0         \n",
            "                                                                 \n",
            " conv_pw_5 (Conv2D)          (None, 28, 28, 256)       65536     \n",
            "                                                                 \n",
            " conv_pw_5_bn (BatchNormaliz  (None, 28, 28, 256)      1024      \n",
            " ation)                                                          \n",
            "                                                                 \n",
            " conv_pw_5_relu (ReLU)       (None, 28, 28, 256)       0         \n",
            "                                                                 \n",
            " conv_pad_6 (ZeroPadding2D)  (None, 29, 29, 256)       0         \n",
            "                                                                 \n",
            " conv_dw_6 (DepthwiseConv2D)  (None, 14, 14, 256)      2304      \n",
            "                                                                 \n",
            " conv_dw_6_bn (BatchNormaliz  (None, 14, 14, 256)      1024      \n",
            " ation)                                                          \n",
            "                                                                 \n",
            " conv_dw_6_relu (ReLU)       (None, 14, 14, 256)       0         \n",
            "                                                                 \n",
            " conv_pw_6 (Conv2D)          (None, 14, 14, 512)       131072    \n",
            "                                                                 \n",
            " conv_pw_6_bn (BatchNormaliz  (None, 14, 14, 512)      2048      \n",
            " ation)                                                          \n",
            "                                                                 \n",
            " conv_pw_6_relu (ReLU)       (None, 14, 14, 512)       0         \n",
            "                                                                 \n",
            " conv_dw_7 (DepthwiseConv2D)  (None, 14, 14, 512)      4608      \n",
            "                                                                 \n",
            " conv_dw_7_bn (BatchNormaliz  (None, 14, 14, 512)      2048      \n",
            " ation)                                                          \n",
            "                                                                 \n",
            " conv_dw_7_relu (ReLU)       (None, 14, 14, 512)       0         \n",
            "                                                                 \n",
            " conv_pw_7 (Conv2D)          (None, 14, 14, 512)       262144    \n",
            "                                                                 \n",
            " conv_pw_7_bn (BatchNormaliz  (None, 14, 14, 512)      2048      \n",
            " ation)                                                          \n",
            "                                                                 \n",
            " conv_pw_7_relu (ReLU)       (None, 14, 14, 512)       0         \n",
            "                                                                 \n",
            " conv_dw_8 (DepthwiseConv2D)  (None, 14, 14, 512)      4608      \n",
            "                                                                 \n",
            " conv_dw_8_bn (BatchNormaliz  (None, 14, 14, 512)      2048      \n",
            " ation)                                                          \n",
            "                                                                 \n",
            " conv_dw_8_relu (ReLU)       (None, 14, 14, 512)       0         \n",
            "                                                                 \n",
            " conv_pw_8 (Conv2D)          (None, 14, 14, 512)       262144    \n",
            "                                                                 \n",
            " conv_pw_8_bn (BatchNormaliz  (None, 14, 14, 512)      2048      \n",
            " ation)                                                          \n",
            "                                                                 \n",
            " conv_pw_8_relu (ReLU)       (None, 14, 14, 512)       0         \n",
            "                                                                 \n",
            " conv_dw_9 (DepthwiseConv2D)  (None, 14, 14, 512)      4608      \n",
            "                                                                 \n",
            " conv_dw_9_bn (BatchNormaliz  (None, 14, 14, 512)      2048      \n",
            " ation)                                                          \n",
            "                                                                 \n",
            " conv_dw_9_relu (ReLU)       (None, 14, 14, 512)       0         \n",
            "                                                                 \n",
            " conv_pw_9 (Conv2D)          (None, 14, 14, 512)       262144    \n",
            "                                                                 \n",
            " conv_pw_9_bn (BatchNormaliz  (None, 14, 14, 512)      2048      \n",
            " ation)                                                          \n",
            "                                                                 \n",
            " conv_pw_9_relu (ReLU)       (None, 14, 14, 512)       0         \n",
            "                                                                 \n",
            " conv_dw_10 (DepthwiseConv2D  (None, 14, 14, 512)      4608      \n",
            " )                                                               \n",
            "                                                                 \n",
            " conv_dw_10_bn (BatchNormali  (None, 14, 14, 512)      2048      \n",
            " zation)                                                         \n",
            "                                                                 \n",
            " conv_dw_10_relu (ReLU)      (None, 14, 14, 512)       0         \n",
            "                                                                 \n",
            " conv_pw_10 (Conv2D)         (None, 14, 14, 512)       262144    \n",
            "                                                                 \n",
            " conv_pw_10_bn (BatchNormali  (None, 14, 14, 512)      2048      \n",
            " zation)                                                         \n",
            "                                                                 \n",
            " conv_pw_10_relu (ReLU)      (None, 14, 14, 512)       0         \n",
            "                                                                 \n",
            " conv_dw_11 (DepthwiseConv2D  (None, 14, 14, 512)      4608      \n",
            " )                                                               \n",
            "                                                                 \n",
            " conv_dw_11_bn (BatchNormali  (None, 14, 14, 512)      2048      \n",
            " zation)                                                         \n",
            "                                                                 \n",
            " conv_dw_11_relu (ReLU)      (None, 14, 14, 512)       0         \n",
            "                                                                 \n",
            " conv_pw_11 (Conv2D)         (None, 14, 14, 512)       262144    \n",
            "                                                                 \n",
            " conv_pw_11_bn (BatchNormali  (None, 14, 14, 512)      2048      \n",
            " zation)                                                         \n",
            "                                                                 \n",
            " conv_pw_11_relu (ReLU)      (None, 14, 14, 512)       0         \n",
            "                                                                 \n",
            " conv_pad_12 (ZeroPadding2D)  (None, 15, 15, 512)      0         \n",
            "                                                                 \n",
            " conv_dw_12 (DepthwiseConv2D  (None, 7, 7, 512)        4608      \n",
            " )                                                               \n",
            "                                                                 \n",
            " conv_dw_12_bn (BatchNormali  (None, 7, 7, 512)        2048      \n",
            " zation)                                                         \n",
            "                                                                 \n",
            " conv_dw_12_relu (ReLU)      (None, 7, 7, 512)         0         \n",
            "                                                                 \n",
            " conv_pw_12 (Conv2D)         (None, 7, 7, 1024)        524288    \n",
            "                                                                 \n",
            " conv_pw_12_bn (BatchNormali  (None, 7, 7, 1024)       4096      \n",
            " zation)                                                         \n",
            "                                                                 \n",
            " conv_pw_12_relu (ReLU)      (None, 7, 7, 1024)        0         \n",
            "                                                                 \n",
            " conv_dw_13 (DepthwiseConv2D  (None, 7, 7, 1024)       9216      \n",
            " )                                                               \n",
            "                                                                 \n",
            " conv_dw_13_bn (BatchNormali  (None, 7, 7, 1024)       4096      \n",
            " zation)                                                         \n",
            "                                                                 \n",
            " conv_dw_13_relu (ReLU)      (None, 7, 7, 1024)        0         \n",
            "                                                                 \n",
            " conv_pw_13 (Conv2D)         (None, 7, 7, 1024)        1048576   \n",
            "                                                                 \n",
            " conv_pw_13_bn (BatchNormali  (None, 7, 7, 1024)       4096      \n",
            " zation)                                                         \n",
            "                                                                 \n",
            " conv_pw_13_relu (ReLU)      (None, 7, 7, 1024)        0         \n",
            "                                                                 \n",
            " flatten (Flatten)           (None, 50176)             0         \n",
            "                                                                 \n",
            " dense (Dense)               (None, 20)                1003540   \n",
            "                                                                 \n",
            "=================================================================\n",
            "Total params: 4,232,404\n",
            "Trainable params: 1,003,540\n",
            "Non-trainable params: 3,228,864\n",
            "_________________________________________________________________\n"
          ]
        }
      ],
      "source": [
        "model_mobilenet_new_final.summary()"
      ]
    },
    {
      "cell_type": "code",
      "execution_count": 16,
      "metadata": {
        "id": "9QnOAZcXLck8",
        "outputId": "adb0a191-7bad-47d6-af9a-66804730c257",
        "colab": {
          "base_uri": "https://localhost:8080/"
        }
      },
      "outputs": [
        {
          "output_type": "stream",
          "name": "stdout",
          "text": [
            "Found 70 images belonging to 20 classes.\n"
          ]
        }
      ],
      "source": [
        "test_generator = ImageDataGenerator(rescale = 1./255)\n",
        "test_data_generator = test_generator.flow_from_directory(\n",
        "    valid_path,\n",
        "    target_size=(224, 224),\n",
        "    batch_size=32,\n",
        "    shuffle=False)\n",
        "test_steps_per_epoch = np.math.ceil(test_data_generator.samples / test_data_generator.batch_size)\n"
      ]
    },
    {
      "cell_type": "code",
      "execution_count": 17,
      "metadata": {
        "id": "nH3HHkImLck8",
        "outputId": "53129ef3-8b0b-467a-965c-30b783cfb72e",
        "colab": {
          "base_uri": "https://localhost:8080/"
        }
      },
      "outputs": [
        {
          "output_type": "stream",
          "name": "stdout",
          "text": [
            "3/3 [==============================] - 12s 2s/step\n"
          ]
        }
      ],
      "source": [
        "predictions = model_mobilenet_new_final.predict(test_data_generator, steps=test_steps_per_epoch)\n"
      ]
    },
    {
      "cell_type": "code",
      "execution_count": 18,
      "metadata": {
        "id": "ZZHAxTa-Lck9",
        "outputId": "687c4353-79d8-42f5-fbe9-a168126174b8",
        "colab": {
          "base_uri": "https://localhost:8080/"
        }
      },
      "outputs": [
        {
          "output_type": "stream",
          "name": "stdout",
          "text": [
            "[ 0  0  0  0  1  1  1  2  2  2  2  2  3  3  3  4  4  5  5  5  6  6  6  6\n",
            "  7  7  8  8  8  9  9 10 10 10 11 11 11 11 11 11 11 12 12 13 13 14 14 14\n",
            " 15 15 15 15 15 15 15 16 16 16 16 16 16 17 17 18 19 19 19 19 19 19]\n",
            "[ 9  9  0  0  1  1  1  2  2  2 11 19 12  7  3 16  8 19 19 19  6  6  6  6\n",
            " 19  7 15  8 19  9  9 10 10 19 11 12 12 11 11 11 11 12 12 13 13 14 14 14\n",
            " 15 15 15 15 15 15 15 16 16 16 16 16 16 10 10 18 19 19 19 19 19 19]\n"
          ]
        }
      ],
      "source": [
        "# Get most likely class\n",
        "predicted_classes = np.argmax(predictions, axis=1)\n",
        "\n",
        "print(test_data_generator.classes)\n",
        "print(predicted_classes)"
      ]
    },
    {
      "cell_type": "code",
      "execution_count": 19,
      "metadata": {
        "id": "syiD3tdPLck9"
      },
      "outputs": [],
      "source": [
        "true_classes = test_data_generator.classes\n",
        "class_labels = list(test_data_generator.class_indices.keys())"
      ]
    },
    {
      "cell_type": "code",
      "execution_count": 20,
      "metadata": {
        "id": "FOPtyeMhLck-",
        "outputId": "1c5f7ac1-6504-461d-9bd5-eb51c7763225",
        "colab": {
          "base_uri": "https://localhost:8080/"
        }
      },
      "outputs": [
        {
          "output_type": "stream",
          "name": "stdout",
          "text": [
            "                        precision    recall  f1-score   support\n",
            "\n",
            "         Big raho Fish       1.00      0.50      0.67         4\n",
            "      Black Water Rahu       1.00      1.00      1.00         3\n",
            "              Cat fish       1.00      0.60      0.75         5\n",
            "            Dhari Fish       1.00      0.33      0.50         3\n",
            "           Dilwar fish       0.00      0.00      0.00         2\n",
            "            Heera Fish       0.00      0.00      0.00         3\n",
            "    Jalabi Paplat Fish       1.00      1.00      1.00         4\n",
            "              Moi Fish       0.50      0.50      0.50         2\n",
            "           Naiser Fish       0.50      0.33      0.40         3\n",
            "           Paplet Fish       0.50      1.00      0.67         2\n",
            "           Parrot Fish       0.50      0.67      0.57         3\n",
            "             Rahu Fish       0.83      0.71      0.77         7\n",
            "      Red snapper Fish       0.40      1.00      0.57         2\n",
            "Ringi  like a cat fish       1.00      1.00      1.00         2\n",
            "             Safi Fish       1.00      1.00      1.00         3\n",
            "            Sarum fish       0.88      1.00      0.93         7\n",
            "      Silver carp Fish       0.86      1.00      0.92         6\n",
            "            Tacan Fish       0.00      0.00      0.00         2\n",
            "Zandia or Dhandia Fish       1.00      1.00      1.00         1\n",
            "             remaining       0.46      1.00      0.63         6\n",
            "\n",
            "              accuracy                           0.73        70\n",
            "             macro avg       0.67      0.68      0.64        70\n",
            "          weighted avg       0.72      0.73      0.69        70\n",
            "\n",
            "[[2 0 0 0 0 0 0 0 0 2 0 0 0 0 0 0 0 0 0 0]\n",
            " [0 3 0 0 0 0 0 0 0 0 0 0 0 0 0 0 0 0 0 0]\n",
            " [0 0 3 0 0 0 0 0 0 0 0 1 0 0 0 0 0 0 0 1]\n",
            " [0 0 0 1 0 0 0 1 0 0 0 0 1 0 0 0 0 0 0 0]\n",
            " [0 0 0 0 0 0 0 0 1 0 0 0 0 0 0 0 1 0 0 0]\n",
            " [0 0 0 0 0 0 0 0 0 0 0 0 0 0 0 0 0 0 0 3]\n",
            " [0 0 0 0 0 0 4 0 0 0 0 0 0 0 0 0 0 0 0 0]\n",
            " [0 0 0 0 0 0 0 1 0 0 0 0 0 0 0 0 0 0 0 1]\n",
            " [0 0 0 0 0 0 0 0 1 0 0 0 0 0 0 1 0 0 0 1]\n",
            " [0 0 0 0 0 0 0 0 0 2 0 0 0 0 0 0 0 0 0 0]\n",
            " [0 0 0 0 0 0 0 0 0 0 2 0 0 0 0 0 0 0 0 1]\n",
            " [0 0 0 0 0 0 0 0 0 0 0 5 2 0 0 0 0 0 0 0]\n",
            " [0 0 0 0 0 0 0 0 0 0 0 0 2 0 0 0 0 0 0 0]\n",
            " [0 0 0 0 0 0 0 0 0 0 0 0 0 2 0 0 0 0 0 0]\n",
            " [0 0 0 0 0 0 0 0 0 0 0 0 0 0 3 0 0 0 0 0]\n",
            " [0 0 0 0 0 0 0 0 0 0 0 0 0 0 0 7 0 0 0 0]\n",
            " [0 0 0 0 0 0 0 0 0 0 0 0 0 0 0 0 6 0 0 0]\n",
            " [0 0 0 0 0 0 0 0 0 0 2 0 0 0 0 0 0 0 0 0]\n",
            " [0 0 0 0 0 0 0 0 0 0 0 0 0 0 0 0 0 0 1 0]\n",
            " [0 0 0 0 0 0 0 0 0 0 0 0 0 0 0 0 0 0 0 6]]\n",
            "0.7285714285714285\n"
          ]
        },
        {
          "output_type": "stream",
          "name": "stderr",
          "text": [
            "/usr/local/lib/python3.10/dist-packages/sklearn/metrics/_classification.py:1344: UndefinedMetricWarning: Precision and F-score are ill-defined and being set to 0.0 in labels with no predicted samples. Use `zero_division` parameter to control this behavior.\n",
            "  _warn_prf(average, modifier, msg_start, len(result))\n",
            "/usr/local/lib/python3.10/dist-packages/sklearn/metrics/_classification.py:1344: UndefinedMetricWarning: Precision and F-score are ill-defined and being set to 0.0 in labels with no predicted samples. Use `zero_division` parameter to control this behavior.\n",
            "  _warn_prf(average, modifier, msg_start, len(result))\n",
            "/usr/local/lib/python3.10/dist-packages/sklearn/metrics/_classification.py:1344: UndefinedMetricWarning: Precision and F-score are ill-defined and being set to 0.0 in labels with no predicted samples. Use `zero_division` parameter to control this behavior.\n",
            "  _warn_prf(average, modifier, msg_start, len(result))\n"
          ]
        }
      ],
      "source": [
        "report = classification_report(true_classes, predicted_classes, target_names=class_labels)\n",
        "cmat = confusion_matrix(true_classes, predicted_classes)\n",
        "acc = accuracy_score(true_classes, predicted_classes)\n",
        "print(report)\n",
        "print(cmat)\n",
        "print(acc)"
      ]
    },
    {
      "cell_type": "code",
      "source": [
        "# importing os module\n",
        "import os\n",
        "\n",
        "# Get the list of all files and directories\n",
        "path = \"/content/drive/MyDrive/Halal Fishes Dataset/JPG Halal Fish Splitted dataset/train\"\n",
        "dir_list = os.listdir(path)\n",
        "\n",
        "print(\"Files and directories in '\", path, \"' :\")\n",
        "\n",
        "# print the list\n",
        "print(dir_list)\n"
      ],
      "metadata": {
        "colab": {
          "base_uri": "https://localhost:8080/"
        },
        "id": "rKga2thMYr9P",
        "outputId": "2da861a4-50a5-4ee0-d5b7-0e4de139658f"
      },
      "execution_count": 22,
      "outputs": [
        {
          "output_type": "stream",
          "name": "stdout",
          "text": [
            "Files and directories in ' /content/drive/MyDrive/Halal Fishes Dataset/JPG Halal Fish Splitted dataset/train ' :\n",
            "['Tacan Fish', 'Zandia or Dhandia Fish', 'Sarum fish', 'Safi Fish', 'remaining', 'Silver carp Fish', 'Ringi  like a cat fish', 'Red snapper Fish', 'Rahu Fish', 'Heera Fish', 'Paplet Fish', 'Dhari Fish', 'Naiser Fish', 'Dilwar fish', 'Cat fish', 'Jalabi Paplat Fish', 'Black Water Rahu', 'Moi Fish', 'Parrot Fish', 'Big raho Fish']\n"
          ]
        }
      ]
    },
    {
      "cell_type": "code",
      "execution_count": 23,
      "metadata": {
        "id": "jN6OrlrjLck_",
        "outputId": "bdf0e070-b7af-4ddd-887d-451aa4d92278",
        "colab": {
          "base_uri": "https://localhost:8080/",
          "height": 865
        }
      },
      "outputs": [
        {
          "output_type": "display_data",
          "data": {
            "text/plain": [
              "<Figure size 800x800 with 2 Axes>"
            ],
            "image/png": "[encoded data removed]"
          },
          "metadata": {}
        }
      ],
      "source": [
        "confusion_mtx = confusion_matrix(true_classes, predicted_classes)\n",
        "# plot the confusion matrix\n",
        "f,ax = plt.subplots(figsize=(8, 8))\n",
        "sns.heatmap(confusion_mtx, annot=True, linewidths=0.01, cmap=\"Blues\", linecolor=\"gray\", fmt='d', ax=ax)\n",
        "plt.xlabel(\"Predicted Label\")\n",
        "plt.ylabel(\"True Label\")\n",
        "ax.set_xticklabels(['Tacan Fish', 'Zandia or Dhandia Fish', 'Sarum fish', 'Safi Fish', 'remaining', 'Silver carp Fish', 'Ringi  like a cat fish', 'Red snapper Fish', 'Rahu Fish', 'Heera Fish', 'Paplet Fish', 'Dhari Fish', 'Naiser Fish', 'Dilwar fish', 'Cat fish', 'Jalabi Paplat Fish', 'Black Water Rahu', 'Moi Fish', 'Parrot Fish', 'Big raho Fish'])\n",
        "plt.xticks(rotation=90)\n",
        "plt.yticks(rotation=0)\n",
        "ax.set_yticklabels(['Tacan Fish', 'Zandia or Dhandia Fish', 'Sarum fish', 'Safi Fish', 'remaining', 'Silver carp Fish', 'Ringi  like a cat fish', 'Red snapper Fish', 'Rahu Fish', 'Heera Fish', 'Paplet Fish', 'Dhari Fish', 'Naiser Fish', 'Dilwar fish', 'Cat fish', 'Jalabi Paplat Fish', 'Black Water Rahu', 'Moi Fish', 'Parrot Fish', 'Big raho Fish'])\n",
        "\n",
        "plt.title(\"Confusion Matrix\")\n",
        "plt.show()"
      ]
    },
    {
      "cell_type": "code",
      "execution_count": 24,
      "metadata": {
        "id": "MbEszqXFLclA"
      },
      "outputs": [],
      "source": [
        "def get_tpr_fnr_fpr_tnr(cm):\n",
        "    \"\"\"\n",
        "    This function returns class-wise TPR, FNR, FPR & TNR\n",
        "    [[cm]]: a 2-D array of a multiclass confusion matrix\n",
        "            where horizontal axes represent actual classes\n",
        "            and vertical axes represent predicted classes\n",
        "    {output}: a dictionary of class-wise accuracy parameters\n",
        "    \"\"\"\n",
        "    dict_metric = dict()\n",
        "    n = len(cm[0])\n",
        "    row_sums = cm.sum(axis=1)\n",
        "    col_sums = cm.sum(axis=0)\n",
        "    array_sum = sum(sum(cm))\n",
        "    #initialize a blank nested dictionary\n",
        "    for i in range(1, n+1):\n",
        "        keys = str(i)\n",
        "        dict_metric[keys] = {\"TPR\":0, \"FNR\":0, \"FPR\":0, \"TNR\":0}\n",
        "    # calculate and store class-wise TPR, FNR, FPR, TNR\n",
        "    for i in range(n):\n",
        "        for j in range(n):\n",
        "            if i == j:\n",
        "                keys = str(i+1)\n",
        "                tp = cm[i, j]\n",
        "                fn = row_sums[i] - cm[i, j]\n",
        "                dict_metric[keys][\"TPR\"] = tp / (tp + fn)\n",
        "                dict_metric[keys][\"FNR\"] = fn / (tp + fn)\n",
        "                fp = col_sums[i] - cm[i, j]\n",
        "                tn = array_sum - tp - fn - fp\n",
        "                dict_metric[keys][\"FPR\"] = fp / (fp + tn)\n",
        "                dict_metric[keys][\"TNR\"] = tn / (fp + tn)\n",
        "    return dict_metric"
      ]
    },
    {
      "cell_type": "code",
      "execution_count": 26,
      "metadata": {
        "id": "pzAL-ORYLclA",
        "outputId": "2e144715-e70b-494d-9652-449f4a646610",
        "colab": {
          "base_uri": "https://localhost:8080/",
          "height": 708
        }
      },
      "outputs": [
        {
          "output_type": "execute_result",
          "data": {
            "text/plain": [
              "                             TPR       FNR       FPR       TNR\n",
              "CLASSES                                                       \n",
              "Tacan Fish              0.500000  0.500000  0.000000  1.000000\n",
              "Zandia or Dhandia Fish  1.000000  0.000000  0.000000  1.000000\n",
              "Sarum fish              0.600000  0.400000  0.000000  1.000000\n",
              "Safi Fish               0.333333  0.666667  0.000000  1.000000\n",
              "remaining               0.000000  1.000000  0.000000  1.000000\n",
              "Silver carp Fish        0.000000  1.000000  0.000000  1.000000\n",
              "Ringi  like a cat fish  1.000000  0.000000  0.000000  1.000000\n",
              "Red snapper Fish        0.500000  0.500000  0.014706  0.985294\n",
              "Rahu Fish               0.333333  0.666667  0.014925  0.985075\n",
              "Heera Fish              1.000000  0.000000  0.029412  0.970588\n",
              "Paplet Fish             0.666667  0.333333  0.029851  0.970149\n",
              "Dhari Fish              0.714286  0.285714  0.015873  0.984127\n",
              "Naiser Fish             1.000000  0.000000  0.044118  0.955882\n",
              "Dilwar fish             1.000000  0.000000  0.000000  1.000000\n",
              "Cat fish                1.000000  0.000000  0.000000  1.000000\n",
              "Jalabi Paplat Fish      1.000000  0.000000  0.015873  0.984127\n",
              "Black Water Rahu        1.000000  0.000000  0.015625  0.984375\n",
              "Moi Fish                0.000000  1.000000  0.000000  1.000000\n",
              "Parrot Fish             1.000000  0.000000  0.000000  1.000000\n",
              "Big raho Fish           1.000000  0.000000  0.109375  0.890625"
            ],
            "text/html": [
              "\n",
              "  <div id=\"df-afa2bfee-08ff-40a6-ac17-e1d4e2eeee82\" class=\"colab-df-container\">\n",
              "    <div>\n",
              "<style scoped>\n",
              "    .dataframe tbody tr th:only-of-type {\n",
              "        vertical-align: middle;\n",
              "    }\n",
              "\n",
              "    .dataframe tbody tr th {\n",
              "        vertical-align: top;\n",
              "    }\n",
              "\n",
              "    .dataframe thead th {\n",
              "        text-align: right;\n",
              "    }\n",
              "</style>\n",
              "<table border=\"1\" class=\"dataframe\">\n",
              "  <thead>\n",
              "    <tr style=\"text-align: right;\">\n",
              "      <th></th>\n",
              "      <th>TPR</th>\n",
              "      <th>FNR</th>\n",
              "      <th>FPR</th>\n",
              "      <th>TNR</th>\n",
              "    </tr>\n",
              "    <tr>\n",
              "      <th>CLASSES</th>\n",
              "      <th></th>\n",
              "      <th></th>\n",
              "      <th></th>\n",
              "      <th></th>\n",
              "    </tr>\n",
              "  </thead>\n",
              "  <tbody>\n",
              "    <tr>\n",
              "      <th>Tacan Fish</th>\n",
              "      <td>0.500000</td>\n",
              "      <td>0.500000</td>\n",
              "      <td>0.000000</td>\n",
              "      <td>1.000000</td>\n",
              "    </tr>\n",
              "    <tr>\n",
              "      <th>Zandia or Dhandia Fish</th>\n",
              "      <td>1.000000</td>\n",
              "      <td>0.000000</td>\n",
              "      <td>0.000000</td>\n",
              "      <td>1.000000</td>\n",
              "    </tr>\n",
              "    <tr>\n",
              "      <th>Sarum fish</th>\n",
              "      <td>0.600000</td>\n",
              "      <td>0.400000</td>\n",
              "      <td>0.000000</td>\n",
              "      <td>1.000000</td>\n",
              "    </tr>\n",
              "    <tr>\n",
              "      <th>Safi Fish</th>\n",
              "      <td>0.333333</td>\n",
              "      <td>0.666667</td>\n",
              "      <td>0.000000</td>\n",
              "      <td>1.000000</td>\n",
              "    </tr>\n",
              "    <tr>\n",
              "      <th>remaining</th>\n",
              "      <td>0.000000</td>\n",
              "      <td>1.000000</td>\n",
              "      <td>0.000000</td>\n",
              "      <td>1.000000</td>\n",
              "    </tr>\n",
              "    <tr>\n",
              "      <th>Silver carp Fish</th>\n",
              "      <td>0.000000</td>\n",
              "      <td>1.000000</td>\n",
              "      <td>0.000000</td>\n",
              "      <td>1.000000</td>\n",
              "    </tr>\n",
              "    <tr>\n",
              "      <th>Ringi  like a cat fish</th>\n",
              "      <td>1.000000</td>\n",
              "      <td>0.000000</td>\n",
              "      <td>0.000000</td>\n",
              "      <td>1.000000</td>\n",
              "    </tr>\n",
              "    <tr>\n",
              "      <th>Red snapper Fish</th>\n",
              "      <td>0.500000</td>\n",
              "      <td>0.500000</td>\n",
              "      <td>0.014706</td>\n",
              "      <td>0.985294</td>\n",
              "    </tr>\n",
              "    <tr>\n",
              "      <th>Rahu Fish</th>\n",
              "      <td>0.333333</td>\n",
              "      <td>0.666667</td>\n",
              "      <td>0.014925</td>\n",
              "      <td>0.985075</td>\n",
              "    </tr>\n",
              "    <tr>\n",
              "      <th>Heera Fish</th>\n",
              "      <td>1.000000</td>\n",
              "      <td>0.000000</td>\n",
              "      <td>0.029412</td>\n",
              "      <td>0.970588</td>\n",
              "    </tr>\n",
              "    <tr>\n",
              "      <th>Paplet Fish</th>\n",
              "      <td>0.666667</td>\n",
              "      <td>0.333333</td>\n",
              "      <td>0.029851</td>\n",
              "      <td>0.970149</td>\n",
              "    </tr>\n",
              "    <tr>\n",
              "      <th>Dhari Fish</th>\n",
              "      <td>0.714286</td>\n",
              "      <td>0.285714</td>\n",
              "      <td>0.015873</td>\n",
              "      <td>0.984127</td>\n",
              "    </tr>\n",
              "    <tr>\n",
              "      <th>Naiser Fish</th>\n",
              "      <td>1.000000</td>\n",
              "      <td>0.000000</td>\n",
              "      <td>0.044118</td>\n",
              "      <td>0.955882</td>\n",
              "    </tr>\n",
              "    <tr>\n",
              "      <th>Dilwar fish</th>\n",
              "      <td>1.000000</td>\n",
              "      <td>0.000000</td>\n",
              "      <td>0.000000</td>\n",
              "      <td>1.000000</td>\n",
              "    </tr>\n",
              "    <tr>\n",
              "      <th>Cat fish</th>\n",
              "      <td>1.000000</td>\n",
              "      <td>0.000000</td>\n",
              "      <td>0.000000</td>\n",
              "      <td>1.000000</td>\n",
              "    </tr>\n",
              "    <tr>\n",
              "      <th>Jalabi Paplat Fish</th>\n",
              "      <td>1.000000</td>\n",
              "      <td>0.000000</td>\n",
              "      <td>0.015873</td>\n",
              "      <td>0.984127</td>\n",
              "    </tr>\n",
              "    <tr>\n",
              "      <th>Black Water Rahu</th>\n",
              "      <td>1.000000</td>\n",
              "      <td>0.000000</td>\n",
              "      <td>0.015625</td>\n",
              "      <td>0.984375</td>\n",
              "    </tr>\n",
              "    <tr>\n",
              "      <th>Moi Fish</th>\n",
              "      <td>0.000000</td>\n",
              "      <td>1.000000</td>\n",
              "      <td>0.000000</td>\n",
              "      <td>1.000000</td>\n",
              "    </tr>\n",
              "    <tr>\n",
              "      <th>Parrot Fish</th>\n",
              "      <td>1.000000</td>\n",
              "      <td>0.000000</td>\n",
              "      <td>0.000000</td>\n",
              "      <td>1.000000</td>\n",
              "    </tr>\n",
              "    <tr>\n",
              "      <th>Big raho Fish</th>\n",
              "      <td>1.000000</td>\n",
              "      <td>0.000000</td>\n",
              "      <td>0.109375</td>\n",
              "      <td>0.890625</td>\n",
              "    </tr>\n",
              "  </tbody>\n",
              "</table>\n",
              "</div>\n",
              "    <div class=\"colab-df-buttons\">\n",
              "\n",
              "  <div class=\"colab-df-container\">\n",
              "    <button class=\"colab-df-convert\" onclick=\"convertToInteractive('df-afa2bfee-08ff-40a6-ac17-e1d4e2eeee82')\"\n",
              "            title=\"Convert this dataframe to an interactive table.\"\n",
              "            style=\"display:none;\">\n",
              "\n",
              "  <svg xmlns=\"http://www.w3.org/2000/svg\" height=\"24px\" viewBox=\"0 -960 960 960\">\n",
              "    <path d=\"M120-120v-720h720v720H120Zm60-500h600v-160H180v160Zm220 220h160v-160H400v160Zm0 220h160v-160H400v160ZM180-400h160v-160H180v160Zm440 0h160v-160H620v160ZM180-180h160v-160H180v160Zm440 0h160v-160H620v160Z\"/>\n",
              "  </svg>\n",
              "    </button>\n",
              "\n",
              "  <style>\n",
              "    .colab-df-container {\n",
              "      display:flex;\n",
              "      gap: 12px;\n",
              "    }\n",
              "\n",
              "    .colab-df-convert {\n",
              "      background-color: #E8F0FE;\n",
              "      border: none;\n",
              "      border-radius: 50%;\n",
              "      cursor: pointer;\n",
              "      display: none;\n",
              "      fill: #1967D2;\n",
              "      height: 32px;\n",
              "      padding: 0 0 0 0;\n",
              "      width: 32px;\n",
              "    }\n",
              "\n",
              "    .colab-df-convert:hover {\n",
              "      background-color: #E2EBFA;\n",
              "      box-shadow: 0px 1px 2px rgba(60, 64, 67, 0.3), 0px 1px 3px 1px rgba(60, 64, 67, 0.15);\n",
              "      fill: #174EA6;\n",
              "    }\n",
              "\n",
              "    .colab-df-buttons div {\n",
              "      margin-bottom: 4px;\n",
              "    }\n",
              "\n",
              "    [theme=dark] .colab-df-convert {\n",
              "      background-color: #3B4455;\n",
              "      fill: #D2E3FC;\n",
              "    }\n",
              "\n",
              "    [theme=dark] .colab-df-convert:hover {\n",
              "      background-color: #434B5C;\n",
              "      box-shadow: 0px 1px 3px 1px rgba(0, 0, 0, 0.15);\n",
              "      filter: drop-shadow(0px 1px 2px rgba(0, 0, 0, 0.3));\n",
              "      fill: #FFFFFF;\n",
              "    }\n",
              "  </style>\n",
              "\n",
              "    <script>\n",
              "      const buttonEl =\n",
              "        document.querySelector('#df-afa2bfee-08ff-40a6-ac17-e1d4e2eeee82 button.colab-df-convert');\n",
              "      buttonEl.style.display =\n",
              "        google.colab.kernel.accessAllowed ? 'block' : 'none';\n",
              "\n",
              "      async function convertToInteractive(key) {\n",
              "        const element = document.querySelector('#df-afa2bfee-08ff-40a6-ac17-e1d4e2eeee82');\n",
              "        const dataTable =\n",
              "          await google.colab.kernel.invokeFunction('convertToInteractive',\n",
              "                                                    [key], {});\n",
              "        if (!dataTable) return;\n",
              "\n",
              "        const docLinkHtml = 'Like what you see? Visit the ' +\n",
              "          '<a target=\"_blank\" href=https://colab.research.google.com/notebooks/data_table.ipynb>data table notebook</a>'\n",
              "          + ' to learn more about interactive tables.';\n",
              "        element.innerHTML = '';\n",
              "        dataTable['output_type'] = 'display_data';\n",
              "        await google.colab.output.renderOutput(dataTable, element);\n",
              "        const docLink = document.createElement('div');\n",
              "        docLink.innerHTML = docLinkHtml;\n",
              "        element.appendChild(docLink);\n",
              "      }\n",
              "    </script>\n",
              "  </div>\n",
              "\n",
              "\n",
              "<div id=\"df-52001563-2863-472f-93bb-027c9d2f5da3\">\n",
              "  <button class=\"colab-df-quickchart\" onclick=\"quickchart('df-52001563-2863-472f-93bb-027c9d2f5da3')\"\n",
              "            title=\"Suggest charts\"\n",
              "            style=\"display:none;\">\n",
              "\n",
              "<svg xmlns=\"http://www.w3.org/2000/svg\" height=\"24px\"viewBox=\"0 0 24 24\"\n",
              "     width=\"24px\">\n",
              "    <g>\n",
              "        <path d=\"M19 3H5c-1.1 0-2 .9-2 2v14c0 1.1.9 2 2 2h14c1.1 0 2-.9 2-2V5c0-1.1-.9-2-2-2zM9 17H7v-7h2v7zm4 0h-2V7h2v10zm4 0h-2v-4h2v4z\"/>\n",
              "    </g>\n",
              "</svg>\n",
              "  </button>\n",
              "\n",
              "<style>\n",
              "  .colab-df-quickchart {\n",
              "      --bg-color: #E8F0FE;\n",
              "      --fill-color: #1967D2;\n",
              "      --hover-bg-color: #E2EBFA;\n",
              "      --hover-fill-color: #174EA6;\n",
              "      --disabled-fill-color: #AAA;\n",
              "      --disabled-bg-color: #DDD;\n",
              "  }\n",
              "\n",
              "  [theme=dark] .colab-df-quickchart {\n",
              "      --bg-color: #3B4455;\n",
              "      --fill-color: #D2E3FC;\n",
              "      --hover-bg-color: #434B5C;\n",
              "      --hover-fill-color: #FFFFFF;\n",
              "      --disabled-bg-color: #3B4455;\n",
              "      --disabled-fill-color: #666;\n",
              "  }\n",
              "\n",
              "  .colab-df-quickchart {\n",
              "    background-color: var(--bg-color);\n",
              "    border: none;\n",
              "    border-radius: 50%;\n",
              "    cursor: pointer;\n",
              "    display: none;\n",
              "    fill: var(--fill-color);\n",
              "    height: 32px;\n",
              "    padding: 0;\n",
              "    width: 32px;\n",
              "  }\n",
              "\n",
              "  .colab-df-quickchart:hover {\n",
              "    background-color: var(--hover-bg-color);\n",
              "    box-shadow: 0 1px 2px rgba(60, 64, 67, 0.3), 0 1px 3px 1px rgba(60, 64, 67, 0.15);\n",
              "    fill: var(--button-hover-fill-color);\n",
              "  }\n",
              "\n",
              "  .colab-df-quickchart-complete:disabled,\n",
              "  .colab-df-quickchart-complete:disabled:hover {\n",
              "    background-color: var(--disabled-bg-color);\n",
              "    fill: var(--disabled-fill-color);\n",
              "    box-shadow: none;\n",
              "  }\n",
              "\n",
              "  .colab-df-spinner {\n",
              "    border: 2px solid var(--fill-color);\n",
              "    border-color: transparent;\n",
              "    border-bottom-color: var(--fill-color);\n",
              "    animation:\n",
              "      spin 1s steps(1) infinite;\n",
              "  }\n",
              "\n",
              "  @keyframes spin {\n",
              "    0% {\n",
              "      border-color: transparent;\n",
              "      border-bottom-color: var(--fill-color);\n",
              "      border-left-color: var(--fill-color);\n",
              "    }\n",
              "    20% {\n",
              "      border-color: transparent;\n",
              "      border-left-color: var(--fill-color);\n",
              "      border-top-color: var(--fill-color);\n",
              "    }\n",
              "    30% {\n",
              "      border-color: transparent;\n",
              "      border-left-color: var(--fill-color);\n",
              "      border-top-color: var(--fill-color);\n",
              "      border-right-color: var(--fill-color);\n",
              "    }\n",
              "    40% {\n",
              "      border-color: transparent;\n",
              "      border-right-color: var(--fill-color);\n",
              "      border-top-color: var(--fill-color);\n",
              "    }\n",
              "    60% {\n",
              "      border-color: transparent;\n",
              "      border-right-color: var(--fill-color);\n",
              "    }\n",
              "    80% {\n",
              "      border-color: transparent;\n",
              "      border-right-color: var(--fill-color);\n",
              "      border-bottom-color: var(--fill-color);\n",
              "    }\n",
              "    90% {\n",
              "      border-color: transparent;\n",
              "      border-bottom-color: var(--fill-color);\n",
              "    }\n",
              "  }\n",
              "</style>\n",
              "\n",
              "  <script>\n",
              "    async function quickchart(key) {\n",
              "      const quickchartButtonEl =\n",
              "        document.querySelector('#' + key + ' button');\n",
              "      quickchartButtonEl.disabled = true;  // To prevent multiple clicks.\n",
              "      quickchartButtonEl.classList.add('colab-df-spinner');\n",
              "      try {\n",
              "        const charts = await google.colab.kernel.invokeFunction(\n",
              "            'suggestCharts', [key], {});\n",
              "      } catch (error) {\n",
              "        console.error('Error during call to suggestCharts:', error);\n",
              "      }\n",
              "      quickchartButtonEl.classList.remove('colab-df-spinner');\n",
              "      quickchartButtonEl.classList.add('colab-df-quickchart-complete');\n",
              "    }\n",
              "    (() => {\n",
              "      let quickchartButtonEl =\n",
              "        document.querySelector('#df-52001563-2863-472f-93bb-027c9d2f5da3 button');\n",
              "      quickchartButtonEl.style.display =\n",
              "        google.colab.kernel.accessAllowed ? 'block' : 'none';\n",
              "    })();\n",
              "  </script>\n",
              "</div>\n",
              "    </div>\n",
              "  </div>\n"
            ]
          },
          "metadata": {},
          "execution_count": 26
        }
      ],
      "source": [
        "import pandas as pd\n",
        "df = pd.DataFrame(get_tpr_fnr_fpr_tnr(confusion_mtx)).transpose()\n",
        "classes = ['Tacan Fish', 'Zandia or Dhandia Fish', 'Sarum fish', 'Safi Fish', 'remaining', 'Silver carp Fish', 'Ringi  like a cat fish', 'Red snapper Fish', 'Rahu Fish', 'Heera Fish', 'Paplet Fish', 'Dhari Fish', 'Naiser Fish', 'Dilwar fish', 'Cat fish', 'Jalabi Paplat Fish', 'Black Water Rahu', 'Moi Fish', 'Parrot Fish', 'Big raho Fish']\n",
        "df['CLASSES'] = classes\n",
        "df.set_index('CLASSES', inplace=True)\n",
        "df"
      ]
    },
    {
      "cell_type": "code",
      "execution_count": 27,
      "metadata": {
        "id": "7pBUEpFJLclB",
        "outputId": "60f1fa9a-fe4a-455d-bf57-220a25f558f3",
        "colab": {
          "base_uri": "https://localhost:8080/"
        }
      },
      "outputs": [
        {
          "output_type": "stream",
          "name": "stderr",
          "text": [
            "WARNING:absl:Found untraced functions such as _jit_compiled_convolution_op, _jit_compiled_convolution_op, _jit_compiled_convolution_op, _jit_compiled_convolution_op, _jit_compiled_convolution_op while saving (showing 5 of 28). These functions will not be directly callable after loading.\n"
          ]
        }
      ],
      "source": [
        "converter = tf.lite.TFLiteConverter.from_keras_model(model_mobilenet_new_final)\n",
        "tflite_model = converter.convert()\n",
        "\n",
        "with open(\"model.tflite\", \"wb\") as f:\n",
        "    f.write(tflite_model)"
      ]
    },
    {
      "cell_type": "code",
      "execution_count": 28,
      "metadata": {
        "id": "4drJkSa7LclB",
        "outputId": "3dafe2e8-08a7-452e-aebb-40afcb8c452e",
        "colab": {
          "base_uri": "https://localhost:8080/"
        }
      },
      "outputs": [
        {
          "output_type": "stream",
          "name": "stdout",
          "text": [
            "Mobilenet analysis: \n",
            "TPR average:  0.6823809523809523\n",
            "FPR average:  0.014487872263333193\n",
            "TNR average:  0.9855121277366667\n",
            "FNR average:  0.3176190476190476\n"
          ]
        }
      ],
      "source": [
        "print(\"Mobilenet analysis: \")\n",
        "print(\"TPR average: \",df[\"TPR\"].mean())\n",
        "print(\"FPR average: \",df[\"FPR\"].mean())\n",
        "print(\"TNR average: \",df[\"TNR\"].mean())\n",
        "print(\"FNR average: \",df[\"FNR\"].mean())"
      ]
    }
  ],
  "metadata": {
    "kernelspec": {
      "display_name": "Python 3",
      "name": "python3"
    },
    "language_info": {
      "codemirror_mode": {
        "name": "ipython",
        "version": 3
      },
      "file_extension": ".py",
      "mimetype": "text/x-python",
      "name": "python",
      "nbconvert_exporter": "python",
      "pygments_lexer": "ipython3",
      "version": "3.9.0"
    },
    "orig_nbformat": 4,
    "vscode": {
      "interpreter": {
        "hash": "8f8cf99212f81ad0c4765861267244807ee1c18364846cdce387b28994a977ba"
      }
    },
    "colab": {
      "provenance": []
    },
    "accelerator": "TPU"
  },
  "nbformat": 4,
  "nbformat_minor": 0
}